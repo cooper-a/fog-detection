{
 "cells": [
  {
   "cell_type": "markdown",
   "id": "67439690",
   "metadata": {
    "id": "67439690"
   },
   "source": [
    "## LSTM-FCN For Multivariate Time Series FOG Classification"
   ]
  },
  {
   "cell_type": "markdown",
   "id": "LqImgVQyZOio",
   "metadata": {
    "id": "LqImgVQyZOio"
   },
   "source": [
    "## Imports"
   ]
  },
  {
   "cell_type": "code",
   "execution_count": 1,
   "id": "23ed71b2",
   "metadata": {
    "colab": {
     "base_uri": "https://localhost:8080/"
    },
    "id": "23ed71b2",
    "outputId": "58f51116-3334-45b3-cd2a-1252badfc951"
   },
   "outputs": [],
   "source": [
    "# !pip install tsai\n",
    "from tsai.all import *\n",
    "import pandas as pd\n",
    "import matplotlib.pyplot as plt"
   ]
  },
  {
   "cell_type": "code",
   "execution_count": null,
   "id": "7c645d5e",
   "metadata": {
    "colab": {
     "base_uri": "https://localhost:8080/"
    },
    "id": "7c645d5e",
    "outputId": "62935e0a-4958-4977-9f15-269d44daee59"
   },
   "outputs": [
    {
     "name": "stdout",
     "output_type": "stream",
     "text": [
      "Drive already mounted at /content/drive; to attempt to forcibly remount, call drive.mount(\"/content/drive\", force_remount=True).\n"
     ]
    }
   ],
   "source": [
    "from google.colab import drive\n",
    "import pandas as pd\n",
    "drive.mount('/content/drive')\n",
    "base_path = \"/content/drive/MyDrive/SYDE 599 - Deep Learning/SYDE 599 Project/Group Project\"\n",
    "# data_path = f\"{base_path}/data/Filtered Data\"\n",
    "\n",
    "# Import data if df hasn't been defined yet (try/except for caching)\n",
    "# try: \n",
    "#   df\n",
    "# except NameError:\n",
    "df = pd.read_csv(base_path + \"/cleaned_data.zip\")\n"
   ]
  },
  {
   "cell_type": "code",
   "execution_count": 2,
   "id": "7I2SToNnxbJ_",
   "metadata": {
    "colab": {
     "base_uri": "https://localhost:8080/",
     "height": 423
    },
    "id": "7I2SToNnxbJ_",
    "outputId": "5a6ebb04-3bf7-4984-9474-6d8a195c0037"
   },
   "outputs": [],
   "source": [
    "df = pd.read_csv('cleaned_data.csv')"
   ]
  },
  {
   "cell_type": "code",
   "execution_count": 3,
   "id": "0aa9e160",
   "metadata": {
    "id": "0aa9e160"
   },
   "outputs": [],
   "source": [
    "locs = []\n",
    "\n",
    "for i in range(1, 14):\n",
    "    patient_id = i\n",
    "    if i == 1:\n",
    "        for j in range(1, 5):\n",
    "            task_id = j\n",
    "            locs.append((patient_id, task_id))\n",
    "    if i == 2:\n",
    "        for j in range(1, 5):\n",
    "            task_id = j\n",
    "            locs.append((patient_id, task_id))\n",
    "    if i == 3:\n",
    "        for j in range(3, 5):\n",
    "            task_id = j\n",
    "            locs.append((patient_id, task_id))\n",
    "    if i == 4:\n",
    "        for j in range(1, 6):\n",
    "            task_id = j\n",
    "            locs.append((patient_id, task_id))\n",
    "    if i == 5:\n",
    "        for j in range(1, 5):\n",
    "            task_id = j\n",
    "            locs.append((patient_id, task_id))\n",
    "    if i == 6:\n",
    "        for j in range(1, 5):\n",
    "            task_id = j\n",
    "            locs.append((patient_id, task_id))\n",
    "    if i == 7:\n",
    "        for j in range(1, 5):\n",
    "            task_id = j\n",
    "            locs.append((patient_id, task_id))\n",
    "    if i == 8:\n",
    "        for j in range(3, 6):\n",
    "            task_id = j\n",
    "            locs.append((patient_id, task_id))\n",
    "    if i == 9:\n",
    "        for j in range(1, 7):\n",
    "            task_id = j\n",
    "            locs.append((patient_id, task_id))\n",
    "    if i == 10:\n",
    "        for j in range(3, 5):\n",
    "            task_id = j\n",
    "            locs.append((patient_id, task_id))\n",
    "    if i == 11:\n",
    "        locs.append((patient_id, 1))\n",
    "        locs.append((patient_id, 3))\n",
    "        locs.append((patient_id, 4))\n",
    "    if i == 12:\n",
    "        for j in range(1, 5):\n",
    "            task_id = j\n",
    "            locs.append((patient_id, task_id))\n",
    "    if i == 13:\n",
    "        for j in range(3, 5):\n",
    "            task_id = j\n",
    "            locs.append((patient_id, task_id))"
   ]
  },
  {
   "cell_type": "code",
   "execution_count": null,
   "id": "aa54dca2",
   "metadata": {},
   "outputs": [],
   "source": []
  },
  {
   "cell_type": "markdown",
   "id": "nrc9PYbTZU_F",
   "metadata": {
    "id": "nrc9PYbTZU_F"
   },
   "source": [
    "## Creating Windows"
   ]
  },
  {
   "cell_type": "code",
   "execution_count": 29,
   "id": "d3f4e6bb",
   "metadata": {
    "id": "d3f4e6bb"
   },
   "outputs": [],
   "source": [
    "def create_sliding_windows(dataframe, horizon):\n",
    "    features_df = dataframe[['Electrooculogram', 'ECG', 'EMG_R-TA', 'EMG_L-TA', 'EMG_R-GS', 'SC', 'LS_acc_x', 'LS_acc_y', 'LS_acc_z',\n",
    "       'LS_gyro_x', 'LS_gyro_y', 'LS_gyro_z', 'RS_acc_x', 'RS_acc_y',\n",
    "       'RS_acc_z', 'RS_gyro_x', 'RS_gyro_y', 'RS_gyro_z', 'Waist_acc_x',\n",
    "       'Waist_acc_y', 'Waist_acc_z', 'Waist_gyro_x', 'Waist_gyro_y',\n",
    "       'Waist_gyro_z', 'Arm_acc_x', 'Arm_acc_y', 'Arm_acc_z', 'Arm_gyro_x',\n",
    "       'Arm_gyro_y', 'Arm_gyro_z', \"FoG\"]]\n",
    "    features = torch.tensor(features_df.values).float()\n",
    "    \n",
    "    # create samples with sliding window approach\n",
    "    # A two second window will be 500Hz * 2 = 1000 \n",
    "    window_length = 1000\n",
    "    stride = None\n",
    "    n_vars = 30\n",
    "    get_x = [0, 1, 2, 3, 4, 5, 6, 7, 8, 9, 10, 11, 12, 13, 14, 15, 16, 17, 18, 19, 20, 21, 22, 23, 24, 25, 26, 27, 28, 29]\n",
    "    get_y = 30\n",
    "\n",
    "    # With sliding window 1000 and no overlap (stride of None)\n",
    "    # 7530 samples, of 30 features, for 1000 time steps in each sample\n",
    "\n",
    "    # horizon defines the amount of look forward \n",
    "    # here it's 0 so it's predicting the next time step FoG Label\n",
    "\n",
    "    X, y = SlidingWindow(window_length, stride=250, get_x=get_x, get_y=get_y, horizon=horizon)(features)\n",
    "\n",
    "    # X dims are (samples, features, time steps)\n",
    "#     print(f\"X shape is: {X.shape}\")\n",
    "    # y are the FOG labels (samples,)\n",
    "#     print(f\"y shape is: {y.shape}\")\n",
    "    \n",
    "    return(X, y)\n"
   ]
  },
  {
   "cell_type": "code",
   "execution_count": 36,
   "id": "58748080",
   "metadata": {},
   "outputs": [],
   "source": [
    "def create_sliding_windows_all_0s(dataframe, window_size=1000, stride=1000, horizon=250):\n",
    "    # create sliding windows where the df[\"FoG\"] is 0\n",
    "\n",
    "    # Default Values:\n",
    "    # window_size = 250  # 0.5 seconds\n",
    "    # stride = 250  # to prevent overlap\n",
    "    # horizon = 1  # to predict the next time step\n",
    "\n",
    "    # slide a window of 250 samples across the data\n",
    "\n",
    "    # if all the FoG labels are 0 index [30], then add that window to the X and y\n",
    "    # if not, move one label forward and check again\n",
    "\n",
    "    # y is the FoG labels for the next horizon time steps\n",
    "\n",
    "    features_df = dataframe[\n",
    "        ['Electrooculogram', 'ECG', 'EMG_R-TA', 'EMG_L-TA', 'EMG_R-GS', 'SC', 'LS_acc_x', 'LS_acc_y',\n",
    "         'LS_acc_z',\n",
    "         'LS_gyro_x', 'LS_gyro_y', 'LS_gyro_z', 'RS_acc_x', 'RS_acc_y',\n",
    "         'RS_acc_z', 'RS_gyro_x', 'RS_gyro_y', 'RS_gyro_z', 'Waist_acc_x',\n",
    "         'Waist_acc_y', 'Waist_acc_z', 'Waist_gyro_x', 'Waist_gyro_y',\n",
    "         'Waist_gyro_z', 'Arm_acc_x', 'Arm_acc_y', 'Arm_acc_z', 'Arm_gyro_x',\n",
    "         'Arm_gyro_y', 'Arm_gyro_z', \"FoG\"]]\n",
    "    features = torch.tensor(features_df.values).float()\n",
    "\n",
    "    # size (0, 30, 250)\n",
    "    trainset_X = np.empty((0, 30, window_size))\n",
    "    trainset_y = np.empty((0, horizon))\n",
    "    i = 0\n",
    "\n",
    "    while i <= features.shape[0] - window_size - horizon:\n",
    "        if features[i:i + window_size, 30].sum() == 0:\n",
    "            window_features = features[i:i + window_size, 0:30]\n",
    "            window_features = window_features.reshape(1, 30, window_size)\n",
    "            trainset_X = np.append(trainset_X, window_features, axis=0)\n",
    "            horizon_window = features[i + window_size:i + window_size + horizon, 30]\n",
    "            horizon_window = horizon_window.reshape(1, horizon)\n",
    "            trainset_y = np.append(trainset_y, horizon_window, axis=0)\n",
    "            i += stride\n",
    "        else:\n",
    "            i += 1\n",
    "\n",
    "    return trainset_X, trainset_y"
   ]
  },
  {
   "cell_type": "code",
   "execution_count": 37,
   "id": "d11b1f97",
   "metadata": {},
   "outputs": [],
   "source": [
    "df_patient_task = df[(df[\"Patient_ID\"] == 1) & (df[\"Task_ID\"] == 1)]\n",
    "X, y = create_sliding_windows_all_0s(df_patient_task)"
   ]
  },
  {
   "cell_type": "code",
   "execution_count": null,
   "id": "da05a836",
   "metadata": {},
   "outputs": [],
   "source": []
  },
  {
   "cell_type": "code",
   "execution_count": 14,
   "id": "70ef2d26",
   "metadata": {},
   "outputs": [
    {
     "data": {
      "text/plain": [
       "[<matplotlib.lines.Line2D at 0x27ee590d240>]"
      ]
     },
     "execution_count": 14,
     "metadata": {},
     "output_type": "execute_result"
    },
    {
     "data": {
      "image/png": "[encoded data removed]",
      "text/plain": [
       "<Figure size 432x288 with 1 Axes>"
      ]
     },
     "metadata": {
      "needs_background": "light"
     },
     "output_type": "display_data"
    }
   ],
   "source": [
    "plt.plot(y)\n"
   ]
  },
  {
   "cell_type": "code",
   "execution_count": 47,
   "id": "5d7e5c97",
   "metadata": {
    "colab": {
     "base_uri": "https://localhost:8080/"
    },
    "id": "5d7e5c97",
    "outputId": "ae4783c4-5bd5-433e-dff4-48a1f5d05ba2"
   },
   "outputs": [],
   "source": [
    "trainset = {}\n",
    "testset = {}\n",
    "\n",
    "horizon = 250\n",
    "\n",
    "for loc in locs:\n",
    "    df_patient_task = df[(df[\"Patient_ID\"] == loc[0]) & (df[\"Task_ID\"] == loc[1])]\n",
    "    X, y = create_sliding_windows_all_0s(df_patient_task, horizon=horizon)\n",
    "#     X, y = create_sliding_windows(df_patient_task)\n",
    "    if loc[0] != 13 and loc[0] != 12:\n",
    "      trainset[loc] = (X, y)\n",
    "    else:\n",
    "      testset[loc] = (X, y)\n",
    "    dim1 = X.shape[1]\n",
    "    dim2 = X.shape[2]\n",
    "    \n",
    "trainset_X = np.empty((0, dim1, dim2))\n",
    "trainset_y = np.empty((0, horizon))\n",
    "testset_X = np.empty((0, dim1, dim2))\n",
    "testset_y = np.empty((0, horizon))\n",
    "\n",
    "for key in trainset:\n",
    "    X, y = trainset[key]\n",
    "    trainset_X = np.concatenate((trainset_X, X), axis=0)\n",
    "    trainset_y = np.concatenate((trainset_y, y), axis=0)\n",
    "    \n",
    "for key in testset:\n",
    "    X, y = testset[key]\n",
    "    testset_X = np.concatenate((testset_X, X), axis=0)\n",
    "    testset_y = np.concatenate((testset_y, y), axis=0)\n",
    "\n"
   ]
  },
  {
   "cell_type": "code",
   "execution_count": 49,
   "id": "2e195bbb",
   "metadata": {
    "colab": {
     "base_uri": "https://localhost:8080/"
    },
    "id": "2e195bbb",
    "outputId": "dc300788-be5b-49fb-d31f-38a0f66774fd"
   },
   "outputs": [
    {
     "data": {
      "text/plain": [
       "(413, 250)"
      ]
     },
     "execution_count": 49,
     "metadata": {},
     "output_type": "execute_result"
    }
   ],
   "source": [
    "testset_y.shape"
   ]
  },
  {
   "cell_type": "code",
   "execution_count": null,
   "id": "b3f412b9",
   "metadata": {
    "colab": {
     "base_uri": "https://localhost:8080/",
     "height": 91
    },
    "id": "b3f412b9",
    "outputId": "2a2c0672-f339-4317-907f-9bcfcfb23335"
   },
   "outputs": [
    {
     "data": {
      "image/png": "[encoded data removed]",
      "text/plain": [
       "<Figure size 1152x36 with 1 Axes>"
      ]
     },
     "metadata": {
      "needs_background": "light"
     },
     "output_type": "display_data"
    }
   ],
   "source": [
    "splits = get_splits(trainset_y, valid_size=.2, stratify=True, random_state=23, shuffle=True)"
   ]
  },
  {
   "cell_type": "code",
   "execution_count": null,
   "id": "2294fbcd",
   "metadata": {
    "id": "2294fbcd"
   },
   "outputs": [],
   "source": [
    "device = torch.device(\"cuda:0\" if torch.cuda.is_available() else \"cpu\")"
   ]
  },
  {
   "cell_type": "code",
   "execution_count": null,
   "id": "539df0e7",
   "metadata": {
    "colab": {
     "base_uri": "https://localhost:8080/"
    },
    "id": "539df0e7",
    "outputId": "2536db53-e7fe-4c2b-d782-8724b7c05b2b"
   },
   "outputs": [
    {
     "name": "stdout",
     "output_type": "stream",
     "text": [
      "(40,)\n"
     ]
    }
   ],
   "source": [
    "print(y.shape)\n"
   ]
  },
  {
   "cell_type": "markdown",
   "id": "9ArC3h6kZHRQ",
   "metadata": {
    "id": "9ArC3h6kZHRQ"
   },
   "source": [
    "#Training"
   ]
  },
  {
   "cell_type": "code",
   "execution_count": null,
   "id": "0wFHkhVbZ00Q",
   "metadata": {
    "colab": {
     "base_uri": "https://localhost:8080/"
    },
    "id": "0wFHkhVbZ00Q",
    "outputId": "695883c5-c11b-4dc9-d612-b68f50e18a60"
   },
   "outputs": [
    {
     "name": "stdout",
     "output_type": "stream",
     "text": [
      "(40, 30, 1000)\n",
      "[0. 0. 0. 0. 0. 0. 0. 0. 0. 0. 0. 0. 0. 0. 0. 0. 0. 0. 0. 0. 0. 0. 0. 0.\n",
      " 0. 0. 0. 0. 0. 0. 0. 0. 0. 0. 0. 0. 0. 0. 0. 0. 0. 0. 0. 0. 0. 0. 0. 0.\n",
      " 0. 0. 0. 0. 0. 0. 0. 0. 0. 0. 0. 0. 0. 0. 0. 0. 0. 0. 0. 0. 0. 0. 0. 0.\n",
      " 0. 0. 0. 0. 0. 0. 0. 0. 0. 0. 0. 0. 0. 0. 0. 0. 0. 0. 0. 0. 0. 0. 0. 0.\n",
      " 0. 0. 0. 0.]\n",
      "([1308, 4504, 85, 6946, 4614, 761, 6173, 5241, 5252, 2596, 2024, 4260, 4406, 1589, 6296, 723, 147, 6086, 5738, 4596, 2933, 586, 191, 5547, 747, 1785, 1605, 3386, 712, 2432, 1252, 3688, 6813, 3893, 1585, 6606, 3714, 3929, 1193, 6831, 2819, 5612, 4067, 2419, 2864, 4294, 6916, 3747, 4672, 6617, 6649, 6750, 5880, 2956, 1429, 4555, 5057, 503, 5808, 6298, 1403, 674, 3481, 2755, 4574, 3432, 2084, 1677, 5184, 3019, 4480, 5470, 377, 2501, 4084, 1144, 951, 6777, 3502, 2450, 3290, 4423, 4318, 5879, 3185, 1239, 5068, 6631, 5064, 3493, 2312, 2396, 3743, 5674, 659, 5492, 1642, 1077, 3856, 149, 6452, 5621, 1125, 4689, 1116, 200, 6520, 6175, 328, 2955, 5490, 1103, 5887, 4717, 6075, 790, 3623, 5961, 6156, 5456, 5348, 4049, 6582, 414, 4172, 2799, 1561, 1914, 1930, 4460, 6817, 2257, 1901, 6613, 3357, 640, 5847, 3977, 6993, 632, 6976, 4161, 1688, 4592, 722, 336, 426, 2322, 5363, 5397, 1289, 4110, 8, 6900, 1808, 5934, 4453, 1128, 945, 4062, 4031, 6837, 504, 5037, 6126, 497, 1807, 1458, 3137, 1112, 1570, 1300, 6049, 1380, 5446, 5758, 6181, 542, 3744, 1108, 4772, 1774, 120, 2023, 6271, 6802, 3024, 6891, 4437, 4057, 1000, 781, 5188, 4389, 2036, 884, 4540, 5953, 3457, 2511, 5270, 1968, 2318, 3160, 5148, 1595, 5582, 885, 5865, 2934, 2086, 3829, 4163, 5086, 3345, 1973, 3510, 3725, 416, 6522, 707, 2328, 2763, 5035, 2273, 2642, 4203, 4558, 5815, 5803, 6701, 2143, 4875, 3138, 2709, 1418, 5354, 559, 2536, 643, 1864, 6616, 3995, 4126, 2425, 1530, 6090, 3079, 6154, 6958, 131, 5174, 6787, 3890, 1463, 4166, 4511, 3745, 6618, 5227, 2365, 534, 2792, 1075, 384, 1512, 379, 5676, 450, 4033, 6948, 3895, 6490, 4858, 3344, 6024, 6737, 1945, 3848, 5329, 5868, 144, 289, 5255, 5717, 1375, 977, 1996, 1036, 644, 523, 2823, 4673, 1185, 907, 4624, 2267, 6228, 3120, 2052, 6969, 3700, 1279, 6912, 102, 5534, 4830, 4061, 956, 636, 4054, 5221, 2150, 1167, 6547, 5955, 4746, 3046, 6869, 685, 6073, 1118, 4597, 4784, 3713, 1186, 6505, 3281, 898, 4619, 3265, 6938, 1933, 6692, 4667, 2905, 4436, 3708, 2421, 51, 3639, 1739, 865, 3023, 4580, 1652, 1065, 195, 4964, 3703, 5907, 1311, 5203, 115, 5555, 6342, 5834, 2944, 2660, 6276, 1156, 2621, 1307, 4479, 45, 2943, 2504, 1809, 3086, 2427, 3836, 746, 1084, 3300, 5440, 2014, 1339, 5253, 2397, 6886, 6933, 6748, 5415, 2989, 2132, 2697, 2762, 5601, 3590, 3108, 1752, 3027, 4563, 891, 2889, 6110, 6457, 143, 6685, 5592, 211, 5367, 6752, 5973, 5752, 6525, 1586, 6784, 2632, 3084, 2877, 2765, 3368, 6109, 2969, 2650, 6610, 1733, 242, 3832, 6454, 2095, 249, 997, 5191, 2947, 55, 5264, 3184, 4831, 6914, 5098, 6910, 1613, 5509, 6917, 5833, 4701, 5726, 6571, 2483, 3693, 1744, 2018, 415, 38, 3912, 5867, 260, 322, 3219, 6766, 650, 1330, 6550, 6694, 3180, 2189, 4818, 4317, 1143, 366, 973, 3398, 6703, 1538, 4907, 360, 1483, 4171, 1780, 5823, 1478, 5510, 4977, 1759, 3814, 3222, 493, 5790, 5196, 5906, 4957, 619, 4027, 604, 6700, 6407, 4310, 1277, 252, 4076, 2603, 358, 4794, 4007, 5845, 4468, 5678, 580, 5330, 3734, 4961, 5730, 3395, 2617, 334, 3348, 5483, 2235, 6379, 6989, 1760, 5306, 4003, 4808, 6710, 1769, 5049, 2771, 103, 3239, 3913, 757, 1182, 3601, 852, 1517, 315, 391, 4396, 5881, 2652, 6003, 5525, 4547, 4707, 2350, 3627, 1927, 2163, 4395, 4428, 5677, 5125, 273, 1650, 4377, 2742, 3941, 5315, 6104, 6305, 6022, 4622, 5292, 3110, 2038, 227, 1541, 2034, 4891, 1430, 2720, 2400, 5372, 4120, 4880, 2640, 6853, 6067, 683, 4099, 2726, 2520, 5038, 3152, 6581, 4287, 2690, 6892, 4551, 3052, 5991, 6855, 3313, 4121, 3887, 4482, 6246, 6738, 6244, 1493, 3346, 3240, 3131, 6023, 3538, 3891, 3858, 6352, 2611, 5875, 5556, 1107, 4718, 3165, 3067, 1974, 5959, 2443, 1884, 4820, 1643, 929, 888, 3716, 2516, 4996, 3172, 2011, 3959, 5474, 6011, 1030, 5309, 4903, 1169, 2931, 6133, 5943, 3402, 399, 5673, 1399, 4243, 419, 3163, 208, 3220, 994, 4675, 2196, 390, 4562, 1515, 6098, 5644, 1453, 1632, 5588, 3403, 2683, 6746, 3389, 6346, 364, 4648, 6687, 2738, 1734, 1127, 5207, 6714, 1716, 1611, 3853, 4860, 509, 740, 6635, 4096, 4595, 2739, 1341, 3984, 6151, 3462, 2865, 4136, 1115, 833, 4665, 743, 163, 3534, 6286, 3916, 3681, 1608, 3808, 6882, 6776, 5548, 5541, 57, 2072, 1590, 6335, 5800, 6378, 4626, 6593, 3251, 5944, 5204, 4694, 3029, 3034, 4939, 2717, 3412, 2987, 6754, 1738, 304, 1254, 1283, 6147, 2085, 156, 708, 3507, 3122, 3190, 5334, 224, 4501, 6015, 4517, 3882, 1163, 5244, 835, 308, 6013, 5663, 1609, 2869, 3997, 1842, 4107, 4083, 1021, 6095, 2349, 1164, 2393, 2083, 5841, 2123, 3503, 5104, 6736, 5471, 2245, 6932, 4914, 6334, 5756, 3595, 1371, 4559, 1031, 2394, 3914, 325, 2079, 4186, 669, 2151, 4674, 1204, 1811, 4678, 5074, 2489, 5498, 2307, 1288, 3150, 5383, 4394, 1095, 4764, 3009, 787, 3520, 1346, 2430, 5251, 4999, 3032, 4397, 458, 6014, 4890, 3781, 6289, 4956, 2707, 4564, 113, 4642, 6463, 1822, 2031, 1593, 4541, 6809, 258, 1235, 101, 6120, 1629, 5088, 4051, 591, 4971, 2928, 962, 1925, 5972, 2954, 6561, 4952, 5692, 2255, 4885, 3129, 6764, 2664, 5519, 1679, 3867, 2772, 5394, 3847, 6191, 4347, 6498, 104, 1101, 2315, 1150, 4055, 6743, 5511, 3851, 5615, 3210, 701, 5294, 822, 5247, 3133, 2487, 3774, 6275, 5665, 6213, 1026, 6954, 546, 4967, 1720, 4196, 4514, 2884, 3293, 2460, 5028, 5205, 3717, 2548, 661, 2768, 2456, 527, 1775, 5627, 3793, 6812, 3204, 5382, 4300, 5301, 6981, 5585, 5277, 4664, 4402, 3735, 1045, 5923, 2810, 1074, 6907, 3076, 3243, 6422, 99, 5557, 2935, 5723, 3227, 3117, 5671, 6590, 3800, 6365, 1219, 5924, 4811, 549, 5238, 4884, 5399, 4247, 6210, 3519, 2615, 2654, 18, 2073, 3697, 6857, 3706, 2162, 3645, 4273, 6323, 5691, 3753, 6573, 1582, 3920, 4004, 4837, 5213, 626, 5839, 5604, 24, 5180, 495, 4382, 6376, 1305, 2988, 2901, 2649, 4896, 2099, 1441, 4495, 930, 5952, 4220, 221, 6055, 2090, 1756, 3005, 2355, 524, 3055, 5533, 3414, 2795, 2174, 4405, 963, 3968, 6765, 2807, 3593, 1757, 5450, 4846, 4989, 6502, 5553, 4807, 4489, 6626, 2382, 3304, 842, 2797, 6874, 1407, 4552, 1773, 4946, 5147, 4730, 76, 5209, 5166, 2695, 5056, 2198, 4486, 4160, 4610, 5374, 6798, 5304, 1245, 5945, 474, 736, 3145, 1425, 6548, 3123, 5430, 1338, 572, 2851, 6320, 2669, 2793, 1975, 1544, 6971, 4036, 5376, 5997, 2164, 3430, 3656, 5366, 4291, 6373, 6896, 4892, 119, 2854, 2372, 1126, 3247, 2735, 2027, 2247, 5876, 3047, 3015, 2775, 2503, 4255, 169, 1707, 2725, 3526, 584, 6442, 2657, 6598, 5990, 514, 730, 177, 1944, 5447, 6158, 1619, 3381, 1405, 5966, 4752, 367, 3965, 235, 6074, 4140, 407, 6208, 4827, 1161, 6734, 1992, 4847, 498, 3490, 3228, 646, 3447, 3620, 6032, 3729, 3231, 3961, 3689, 1291, 5804, 826, 5817, 6769, 2515, 3329, 3996, 5346, 4736, 3214, 6638, 4594, 3349, 4331, 1626, 2895, 5118, 1202, 1841, 6950, 3680, 1827, 1080, 4859, 6996, 4231, 2962, 4206, 6756, 5957, 3446, 3238, 1967, 5380, 3763, 6061, 5895, 443, 3873, 4324, 5012, 1120, 5575, 2088, 4170, 1702, 2389, 1620, 1437, 1505, 575, 6689, 110, 510, 6084, 540, 5496, 5142, 4292, 3369, 6409, 2230, 1251, 4154, 2496, 1042, 600, 5489, 6249, 5939, 6856, 2102, 5681, 1993, 403, 839, 1542, 4925, 6557, 3626, 4715, 6081, 4193, 919, 4462, 1847, 3733, 745, 613, 3944, 1285, 278, 4201, 5570, 1485, 6854, 81, 733, 4691, 2782, 6127, 6000, 1388, 3311, 447, 716, 4284, 5948, 3136, 1923, 4769, 582, 490, 1475, 3249, 657, 2702, 359, 735, 3105, 2753, 3802, 4216, 3759, 1383, 3569, 4152, 2822, 2238, 6150, 6206, 749, 3229, 5044, 4550, 4843, 4359, 3874, 6538, 6947, 3455, 3624, 4024, 1154, 3879, 5503, 1370, 233, 5233, 3812, 4448, 4621, 1192, 2076, 5385, 1459, 6760, 6568, 1136, 1320, 4868, 2420, 2836, 1124, 2006, 4447, 5360, 6430, 6241, 62, 3347, 5388, 1829, 616, 92, 3937, 148, 2579, 5679, 5017, 5835, 6312, 1768, 1191, 6574, 326, 5898, 3967, 2063, 4293, 6358, 5485, 3119, 2592, 4245, 210, 1481, 4938, 6608, 2330, 3532, 350, 2668, 4305, 2778, 1928, 2465, 2844, 4853, 6780, 267, 4520, 6773, 6614, 116, 834, 5699, 2469, 6397, 4919, 970, 624, 5027, 485, 4464, 1480, 6534, 2287, 1357, 1722, 153, 1852, 3705, 1205, 2597, 3127, 5597, 2449, 6021, 261, 5576, 3910, 5669, 6328, 4391, 3766, 6504, 4948, 4025, 2381, 6235, 2484, 2236, 6220, 5871, 5085, 1550, 2480, 129, 3351, 3134, 3336, 2787, 4593, 160, 4798, 3715, 4887, 5759, 2494, 2344, 3938, 1117, 6267, 3262, 3600, 4823, 6027, 4661, 4754, 4435, 544, 1133, 1867, 6128, 453, 1406, 6215, 3302, 5078, 1922, 6961, 6625, 5589, 2942, 1469, 6826, 1157, 5732, 123, 4625, 1566, 446, 1078, 6995, 1591, 3442, 3527, 6113, 2252, 2687, 4528, 1860, 215, 4682, 4708, 2537, 4905, 1054, 1270, 816, 2462, 2028, 3936, 4189, 6941, 84, 3058, 5117, 3332, 6646, 2508, 349, 4174, 2108, 2747, 5616, 4325, 3918, 5401, 4202, 915, 709, 307, 6477, 2758, 4235, 5980, 5626, 6939, 2937, 6008, 4724, 6423, 1828, 6554, 5912, 5831, 1426, 6577, 4276, 2961, 1898, 764, 6302, 1669, 6273, 1162, 3985, 3789, 2716, 2062, 217, 5111, 1904, 2788, 1958, 6858, 1965, 1819, 4440, 2380, 3791, 4237, 4568, 257, 4042, 2939, 5161, 672, 4399, 949, 5267, 680, 5977, 1244, 1909, 5200, 3939, 4277, 570, 914, 2482, 853, 5162, 5769, 2811, 6686, 961, 4670, 3337, 4151, 518, 1255, 231, 1391, 2868, 4381, 3908, 86, 1956, 2260, 4639, 4690, 3775, 4632, 4212, 4525, 28, 6879, 3206, 182, 6137, 3140, 1770, 2745, 3092, 568, 6350, 6349, 5335, 4936, 6144, 6767, 1728, 2594, 6203, 6588, 2999, 4298, 1419, 5280, 552, 5832, 1408, 2841, 3862, 1900, 5777, 4933, 5024, 5130, 1158, 82, 3061, 4776, 5319, 6975, 3828, 5637, 1506, 184, 3396, 3374, 3633, 5710, 3723, 4737, 5449, 1324, 4264, 3274, 6898, 2850, 4970, 4426, 3806, 228, 5355, 1137, 6657, 922, 5032, 494, 6998, 5352, 5776, 4560, 167, 3822, 5091, 5132, 675, 6713, 2559, 5586, 2746, 6747, 1695, 2711, 1972, 5684, 5133, 5371, 3966, 2140, 2323, 5908, 502, 3702, 3319, 1856, 1286, 4505, 3007, 4991, 1360, 932, 2815, 3917, 5810, 5501, 4571, 321, 187, 3930, 1180, 6484, 2583, 1347, 3699, 5622, 1438, 5583, 4904, 3758, 6890, 3425, 5392, 3367, 629, 6281, 1238, 245, 4573, 3216, 6775, 1457, 2665, 2825, 351, 6080, 4483, 765, 353, 2920, 1004, 5863, 1858, 1220, 5377, 2314, 3719, 1813, 6453, 881, 3673, 6045, 850, 203, 1903, 4607, 4473, 152, 2269, 425, 2561, 3894, 456, 95, 1536, 5700, 3709, 2363, 6254, 6693, 4628, 296, 2800, 1389, 3288, 2463, 795, 1229, 1987, 5080, 2929, 4755, 2303, 71, 2211, 3516, 1170, 3491, 1636, 1498, 3179, 6795, 4902, 799, 6730, 6410, 333, 1521, 6510, 714, 6038, 6883, 566, 4191, 3521, 1335, 2767, 5261, 6368, 6827, 5902, 2378, 1374, 887, 3506, 280, 2002, 1094, 3831, 5256, 339, 771, 6411, 3983, 3169, 2945, 310, 2855, 6873, 1959, 4077, 5698, 2210, 0, 1712, 6426, 1340, 6141, 1293, 775, 6232, 5828, 3325, 2883, 1323, 564, 1764, 2734, 890, 5894, 5689, 2845, 3915, 3154, 688, 1980, 3574, 6229, 5950, 2727, 2047, 3907, 800, 2525, 2818, 6768, 1497, 5873, 1891, 1617, 1479, 5370, 1800, 3618, 3849, 2319, 2582, 4898, 4180, 2527, 3022, 382, 4211, 5567, 5613, 5935, 6521, 2413, 3057, 4059, 5734, 5089, 4529, 6372, 3598, 3653, 3952, 4467, 1806, 5827, 155, 111, 5426, 5729, 2627, 4334, 3246, 1528, 2622, 5083, 41, 5994, 3237, 2240, 251, 5813, 1025, 1874, 6518, 265, 1326, 223, 870, 3792, 4637, 6002, 3053, 1412, 6529, 1364, 886, 29, 3328, 769, 5856, 877, 1540, 4442, 4503, 4706, 972, 1223, 4233, 872, 1138, 2647, 6211, 6880, 792, 3372, 2146, 1692, 2139, 2633, 314, 6664, 4615, 5131, 6607, 1830, 25, 6058, 4316, 6495, 6375, 3334, 2809, 889, 178, 2774, 4616, 2573, 6751, 2540, 3359, 5290, 2194, 3671, 1724, 1837, 15, 6361, 6399, 6471, 1174, 1798, 434, 3201, 2374, 6690, 3566, 5216, 6578, 368, 6114, 6419, 6835, 4567, 6319, 413, 2909, 6157, 5275, 2959, 1102, 1532, 1633, 3640, 6005, 2066, 1648, 5418, 5802, 4438, 2246, 6952, 26, 3632, 5846, 3486, 2952, 2493, 5193, 2148, 4822, 2852, 2490, 3631, 6953, 5657, 5697, 6431, 5528, 5745, 2840, 6721, 3385, 5562, 3082, 2941, 2442, 6367, 596, 3764, 4005, 6464, 1105, 1362, 3568, 3178, 442, 3549, 2115, 4403, 5051, 4641, 1565, 3825, 1924, 3170, 3276, 6753, 6327, 2790, 3605, 3607, 980, 2292, 2568, 1516, 1369, 2651, 6330, 207, 6658, 1227, 6727, 1509, 702, 1799, 4611, 5741, 6706, 5266, 1198, 3769, 4133, 1303, 693, 4304, 3186, 1043, 4716, 3126, 6904, 1188, 140, 1729, 786, 807, 97, 1897, 441, 3202, 2468, 1488, 5982, 6277, 2405, 2545, 560, 5683, 1060, 4013, 4924, 986, 3500, 4612, 2195, 4974, 6645, 3562, 4963, 6291, 515, 987, 620, 5179, 4429, 1222, 3564, 397, 2408, 2710, 6559, 2263, 4335, 1465, 3433, 2441, 6684, 2813, 5236, 4995, 2551, 2144, 5008, 4048, 1726, 3494, 4008, 4266, 2585, 5109, 1439, 2466, 6125, 6982, 6034, 6044, 75, 6757, 5830, 1572, 5114, 342, 6968, 4026, 481, 4252, 272, 1966, 2798, 2563, 6001, 4132, 1754, 4986, 4130, 444, 4241, 418, 2414, 3953, 2326, 550, 3880, 4671, 5883, 4262, 3979, 4921, 2885, 2846, 3006, 2590, 5004, 5441, 4634, 4210, 6863, 6674, 3445, 6403, 2320, 2718, 874, 6511, 1676, 6196, 1794, 4314, 2562, 2129, 3272, 3416, 946, 1912, 992, 4470, 2553, 940, 3644, 6332, 1832, 3390, 1386, 3326, 6536, 737, 1152, 6628, 3078, 6371, 2226, 6875, 2794, 3392, 1048, 3835, 3779, 3317, 3535, 1495, 2127, 6841, 6715, 6605, 6844, 5933, 1556, 3786, 4103, 5806, 4978, 6527, 507, 848, 4159, 6483, 3064, 5761, 4097, 3730, 294, 3614, 6377, 2229, 6720, 1129, 2967, 1861, 4731, 1743, 2153, 5274, 2626, 5872, 1878, 776, 4960, 1328, 1713, 2882, 4361, 3592, 1071, 2227, 4458, 3026, 5076, 927, 6303, 2519, 35, 4605, 4021, 31, 3408, 6186, 1863, 3561, 285, 1178, 529, 1241, 4966, 4738, 5039, 3586, 1007, 431, 5260, 6394, 4652, 5075, 3986, 1062, 726, 1218, 6788, 3050, 5610, 3558, 3885, 3090, 4215, 576, 5061, 4306, 6899, 5181, 2407, 1181, 4598, 6749, 489, 2666, 1683, 4070, 4994, 630, 5477, 1674, 697, 343, 2354, 6790, 5079, 3525, 5433, 1697, 7002, 1401, 918, 4533, 226, 4454, 5819, 3686, 1263, 6030, 1929, 1735, 2056, 4225, 4618, 6076, 5063, 3811, 4922, 2829, 557, 6121, 4509, 6216, 5517, 6374, 6808, 3850, 2248, 2598, 1212, 1875, 4881, 3417, 2232, 5709, 4872, 4320, 1942, 6528, 3333, 4871, 1616, 4258, 4943, 2491, 2764, 3085, 2403, 6839, 2280, 6663, 2117, 3255, 4702, 3125, 5518, 4117, 4091, 3379, 6740, 525, 5262, 4790, 3865, 3354, 6849, 4519, 2000, 5289, 2978, 2013, 1467, 6602, 214, 4006, 154, 5791, 5975, 3068, 6523, 5101, 4516, 150, 5341, 4734, 1896, 3563, 3675, 1534, 6865, 3971, 2347, 3576, 1776, 467, 1659, 5720, 1333, 2190, 4556, 843, 4169, 2135, 4608, 3153, 1580, 5514, 2434, 906, 4923, 612, 1228, 318, 482, 1524, 2438, 216, 6194, 1184, 711, 4848, 4828, 1443, 1546, 6624, 5690, 6405, 2030, 5786, 2364, 4916, 4788, 3324, 3111, 2932, 1494, 291, 3694, 3189, 218, 451, 1997, 6558, 2112, 5654, 6911, 4954, 4218, 5693, 5384, 1675, 4680, 917, 6830, 6214, 3674, 4085, 3530, 2214, 3035, 428, 2541, 3226, 6591, 5837, 806, 4213, 4315, 1472, 856, 1231, 5488, 721, 1361, 378, 2259, 5403, 5048, 331, 2517, 6543, 6803, 6326, 6651, 519, 3135, 3768, 4214, 3148, 1151, 2218, 3544, 4356, 2614, 3482, 1938, 3551, 6450, 6253, 3641, 5995, 2324, 11, 4814, 6134, 4726, 6580, 1367, 6819, 4709, 5930, 3424, 2191, 5365, 3801, 16, 2993, 3976, 2610, 5703, 3480, 2202, 4494, 2078, 6585, 2569, 4014, 5127, 6460, 369, 3573, 2020, 32, 3297, 5494, 558, 4934, 4307, 5434, 5368, 5714, 4457, 5469, 5381, 3509, 6398, 5357, 1278, 6549, 2781, 5520, 1848, 1545, 595, 2212, 2839, 1533, 4450, 2679, 4386, 5956, 622, 1486, 4548, 2424, 6876, 2498, 3268, 6233, 556, 4771, 3253, 2769, 5986, 6362, 352, 2914, 3783, 5404, 2045, 1887, 2923, 5332, 5218, 823, 3093, 5220, 6800, 6485, 5199, 2069, 5979, 5173, 849, 1835, 4465, 5725, 5581, 876, 4401, 93, 1859, 2101, 5971, 5094, 9, 430, 4156, 873, 4877, 5276, 5175, 4508, 4295, 3187, 3934, 3405, 6313, 3922, 2973, 5407, 6575, 1955, 3001, 954, 3004, 1091, 2532, 1221, 2293, 5225, 6078, 4029, 4534, 5646, 4066, 933, 658, 3287, 3360, 6655, 1017, 1535, 1085, 6088, 6288, 5992, 838, 1466, 6709, 5124, 1064, 3692, 2321, 5909, 6799, 5969, 5000, 2752, 3008, 803, 2161, 3738, 1282, 5429, 471, 4873, 90, 4660, 4185, 3988, 1877, 700, 3320, 6659, 2384, 5647, 2113, 225, 5625, 1793, 1594, 2607, 6926, 2544, 5816, 438, 2310, 2440, 2021, 5248, 1883, 6167, 3672, 6901, 1038, 1294, 4676, 3285, 3834, 1655, 5544, 2820, 2279, 6501, 6722, 1206, 5414, 1402, 5854, 785, 4959, 3303, 882, 4183, 676, 1501, 6647, 4643, 3886, 1983, 4364, 3044, 4704, 6355, 3104, 4372, 4778, 3819, 599, 6031, 4713, 698, 923, 3103, 6268, 4950, 3933, 5300, 3147, 4747, 6200, 3696, 6486, 5893, 4654, 5946, 2152, 2300, 5170, 3118, 3728, 329, 1477, 5317, 68, 5718, 5240, 4839, 6739, 5493, 6184, 3279, 3495, 2271, 937, 37, 5110, 3275, 5347, 2445, 1662, 1886, 3208, 2521, 185, 3393, 6438, 520, 663, 1287, 1518, 6997, 2472, 4446, 6733, 2701, 5350, 4204, 5271, 4274, 44, 5176, 4809, 1789, 1916, 4513, 2968, 4474, 4199, 1452, 796, 3588, 3545, 4997, 2507, 1022, 690, 250, 209, 1870, 2105, 2574, 6400, 4821, 1207, 1237, 1658, 2733, 5844, 3072, 3194, 3407, 4393, 6135, 4866, 6797, 3581, 1215, 6944, 5364, 3909, 2181, 1984, 5115, 180, 5327, 2283, 1456, 4114, 6266, 2120, 996, 2286, 5197, 388, 470, 5640, 627, 2250, 5886, 758, 2121, 4280, 6779, 704, 2875, 2305, 1393, 6541, 4506, 1327, 2522, 3183, 437, 6488, 1602, 1950, 4113, 2688, 461, 5648, 2177, 6164, 3796, 1786, 2550, 3529, 3141, 63, 1005, 2147, 1390, 684, 5763, 1012, 5411, 5535, 4232, 5942, 4217, 3236, 1994, 2630, 3167, 421, 3505, 3609, 3926, 4400, 4100, 6551, 4337, 2301, 4261, 188, 2208, 2046, 6224, 6278, 3498, 6620, 4313, 5258, 5043, 2058, 656, 2749, 2081, 2377, 3338, 3366, 4242, 4867, 2859, 3547, 3580, 3794, 6199, 1142, 3752, 1290, 3380, 4906, 545, 6432, 2281, 3233, 1831, 3335, 4319, 3678, 2535, 6387, 6301, 4526, 295, 1132, 1810, 236, 3115, 2623, 678, 2215, 5121, 4108, 162, 1635, 5954, 2359, 4246, 976, 4518, 3670, 4388, 845, 4296, 3991, 2681, 5333, 1588, 5023, 5194, 2910, 1487, 6264, 6425, 1937, 2294, 422, 3553, 4546, 3451, 3830, 5310, 43, 5324, 6870, 2004, 1634, 6761, 3091, 4876, 6893, 6388, 900, 2964, 5965, 1449, 6496, 2383, 533, 4188, 2237, 5373, 255, 2370, 938, 1906, 3724, 5964, 6391, 3970, 6029, 1274, 1264, 6337, 4491, 4901, 6336, 3587, 3659, 2554, 2512, 517, 3316, 2268, 206, 1297, 1575, 5141, 6242, 6310, 5695, 6444, 5818, 264, 2197, 1352, 5243, 3151, 2906, 3726, 1646, 465, 2206, 5250, 3795, 1387, 2696, 944, 2658, 6816, 609, 4420, 5246, 142, 6437, 908, 3932, 5178, 4041, 5897, 3260, 4566, 4011, 5538, 4774, 4039, 1797, 4350, 6820, 4289, 860, 5454, 794, 3018, 4692, 1404, 5866, 2565, 5507, 5099, 588, 3188, 1641, 1893, 4017, 4165, 5996, 5877, 3727, 2092, 1414, 4668, 33, 6106, 742, 3799, 2458, 1319, 6470, 539, 320, 3376, 3199, 2887, 1261, 3037, 433, 1504, 3820, 732, 3042, 4864, 1601, 6639, 1558, 6251, 831, 5476, 1011, 6564, 4656, 1003, 468, 5090, 6871, 2170, 3773, 429, 3488, 1051, 6654, 4677, 3990, 4882, 5568, 3750, 3478, 2125, 6966, 2142, 2223, 6967, 6231, 6255, 2628, 2461, 6205, 1211, 6402, 3843, 172, 3411, 1857, 1035, 5836, 5425, 565, 6458, 3833, 448, 4286, 2124, 1410, 3782, 4148, 476, 618, 1055, 4589, 59, 4279, 2593, 681, 3391, 2618, 5668, 3667, 6920, 969, 6359, 2390, 2785, 3946, 6284, 3810, 694, 4323, 4918, 2244, 6810, 4466, 5302, 4417, 5796, 3846, 1250, 6599, 13, 5242, 4145, 5903, 4433, 1413, 3998, 3013, 3994, 5666, 6182, 2332, 2025, 2416, 3826, 1160, 5214, 5884, 2510, 3577, 6487, 5153, 439, 6668, 516, 4157, 2410, 4135, 1787, 3662, 1921, 6315, 4104, 6448, 4176, 2857, 6247, 5151, 1612, 4744, 4370, 6290, 1213, 2278, 2130, 2953, 827, 2589, 2919, 4010, 3902, 2991, 5628, 5257, 2451, 4975, 3950, 4688, 4109, 109, 4863, 1253, 4411, 536, 213, 2234, 710, 5549, 6225, 2339, 2848, 1815, 964, 4510, 2514, 4190, 2684, 1321, 4537, 374, 6252, 4965, 6123, 2201, 6440, 4155, 2317, 3999, 3400, 4469, 6913, 5443, 50, 706, 3889, 5077, 668, 3157, 2368, 5466, 995, 5400, 1086, 4604, 4804, 4257, 4833, 3528, 1372, 4751, 773, 2392, 4249, 5619, 1762, 4073, 3540, 6198, 4349, 3957, 5970, 5641, 1978, 645, 4535, 1166, 4365, 4854, 5598, 6945, 5892, 1693, 5047, 4179, 577, 4416, 811, 548, 3114, 581, 6851, 4799, 868, 5463, 1539, 3582, 79, 117, 6020, 3860, 1868, 3973, 302, 1625, 4275, 5269, 5093, 480, 1309, 1970, 1604, 4908, 3770, 6459, 4650, 1110, 6041, 1394, 2128, 3508, 753, 3840, 3943, 2241, 6542, 4935, 1096, 4733, 1826, 199, 6097, 3418, 6665, 5145, 562, 241, 1266, 3844, 78, 6744, 947, 3474, 5497, 2265, 3818, 1765, 4102, 805, 1825, 4028, 3273, 1673, 6188, 496, 2816, 1379, 1511, 6179, 1999, 611, 1271, 2295, 817, 1664, 5572, 5724, 1473, 837, 1520, 5097, 4341, 340, 6807, 1392, 4851, 4600, 2116, 3427, 4230, 984, 445, 738, 4897, 1010, 1317, 1332, 1417, 1046, 1093, 5508, 6311, 5412, 896, 2166, 6143, 2677, 2729, 4768, 3741, 6786, 3107, 2272, 4198, 691, 5210, 4, 2007, 4263, 4745, 323, 3087, 4780, 4585, 6507, 1377, 4698, 4384, 3704, 5638, 4492, 2812, 6783, 5751, 3927, 6619, 1058, 5687, 2110, 6990, 6237, 3517, 911, 3655, 6887, 3657, 4424, 4339, 5896, 6539, 1500, 3501, 6142, 2080, 3315, 1745, 1871, 72, 2960, 3629, 4865, 1682, 6963, 5740, 1802, 4685, 5058, 3464, 259, 404, 2984, 1777, 6545, 4695, 65, 6051, 2290, 5922, 1853, 2584, 5773, 5564, 5345, 4835, 5618, 3177, 2100, 2474, 5889, 1547, 4855, 2728, 739, 638, 22, 5422, 5107, 1187, 5774, 4281, 432, 1049, 164, 1056, 5609, 5901, 69, 5919, 356, 4714, 4815, 2662, 3554, 4192, 3883, 4870, 3608, 5853, 4122, 4309, 3075, 2776, 1097, 1839, 2595, 2639, 1788, 836, 6136, 573, 1172, 3010, 6517, 1559, 1208, 4655, 5529, 4797, 6412, 4998, 4308, 4554, 4030, 5685, 290, 2667, 3394, 4475, 2495, 6908, 563, 4679, 6592, 4968, 2302, 6669, 4355, 243, 3083, 2297, 5753, 6447, 1564, 2156, 1845, 6594, 2509, 755, 3101, 6532, 5464, 6043, 4146, 3256, 703, 2900, 6509, 222, 4565, 2050, 4333, 6390, 840, 469, 2270, 3292, 6417, 3171, 1121, 6930, 4080, 3691, 30, 4373, 6540, 1089, 2160, 5987, 256, 5, 4118, 4321, 3864, 3798, 5328, 6959, 5686, 6418, 4195, 3980, 2111, 4773, 3413, 5635, 2949, 3077, 1899, 5913, 4035, 417, 3012, 967, 202, 5624, 3355, 1948, 3099, 5561, 1006, 1079, 6473, 168, 4158, 171, 4840, 1018, 2528, 6514, 6627, 6867, 5634, 4658, 862, 4888, 4427, 1273, 3955, 14, 1447, 1964, 1951, 5825, 1935, 1141, 3181, 5531, 5102, 1009, 1489, 6643, 5215, 5318, 861, 4265, 4207, 4336, 4490, 6201, 3252, 6717, 2486, 5667, 2529, 555, 6257, 2784, 5905, 2481, 2015, 2446, 3124, 6316, 589, 5410, 4002, 2502, 1715, 5379, 4699, 133, 3475, 6449, 6221, 2032, 4931, 247, 4577, 652, 592, 6456, 348, 1939, 3711, 1747, 4647, 269, 6331, 3309, 341, 2338, 5715, 5212, 2039, 5291, 2740, 1543, 6396, 5515, 5226, 3958, 3935, 1704, 2587, 5749, 2847, 2833, 6903, 5461, 5711, 5417, 5185, 1325, 585, 3060, 6681, 1420, 2008, 5591, 1741, 1225, 1476, 5771, 3286, 6149, 192, 6927, 472, 1653, 784, 3193, 3788, 3215, 3308, 2185, 5393, 6862, 2534, 3375, 4759, 6155, 666, 6077, 3813, 268, 3513, 274, 6623, 2523, 971, 590, 6497, 1526, 3307, 179, 1015, 4018, 4340, 3720, 365, 3866, 6526, 3621, 6666, 5947, 648, 4046, 1359, 2453, 2566, 4561, 6370, 4720, 3550, 5550, 6222, 5272, 5445, 5974, 6641, 1917, 6197, 4253, 5623, 2119, 859, 3431, 1699, 5321, 3492, 5284, 3456, 1703, 6563, 2831, 6062, 4299, 3951, 1081, 1718, 3473, 3033, 6025, 2916, 4354, 1176, 1527, 3321, 4765, 197, 5968, 3512, 1600, 2913, 1061, 6726, 3155, 2158, 6300, 2167, 301, 1885, 3063, 3523, 135, 2773, 464, 4434, 6652, 183, 950, 2808, 6340, 2998, 6217, 6451, 2977, 867, 1844, 500, 3250, 1834, 1855, 857, 2488, 1696, 6245, 2780, 6621, 6833, 4883, 3466, 6294, 6052, 598, 1599, 3807, 5707, 1491, 5060, 4338, 1753, 5580, 1961, 6699, 974, 935, 299, 4951, 5025, 5237, 6004, 2581, 948, 5298, 17, 2616, 5737, 4056, 682, 3410, 4586, 5829, 3771, 3809, 5860, 254, 2003, 6984, 1397, 1690, 989, 6680, 477, 5706, 3109, 5071, 2373, 2346, 5573, 4023, 5607, 1654, 6282, 3925, 4646, 4149, 3987, 4227, 4312, 2866, 6258, 492, 6259, 2588, 2671, 2342, 1740, 5917, 578, 4371, 3599, 6972, 6006, 2972, 667, 7, 3472, 5984, 5146, 2239, 3863, 3094, 2054, 6962, 3030, 1888, 4353, 1508, 5539, 2258, 5303, 1027, 3875, 5596, 2890, 309, 2467, 5230, 196, 719, 3962, 1624, 2546, 4748, 3144, 1723, 3555, 5224, 4981, 6063, 6153, 2103, 1513, 4753, 5543, 1670, 4127, 3567, 53, 5937, 5842, 692, 6516, 1907, 4142, 5033, 5727, 1555, 3234, 4958, 854, 3940, 6679, 3616, 554, 1920, 108, 4068, 3423, 4106, 6124, 1637, 4779, 3637, 6169, 3263, 6079, 2704, 2524, 3040, 475, 4636, 5967, 6260, 2233, 6546, 1573, 3350, 1354, 1047, 715, 1234, 6670, 4430, 3869, 5659, 6544, 1680, 4953, 2122, 2714, 939, 2601, 513, 4651, 174, 670, 4162, 6519, 6193, 6469, 1631, 2786, 1314, 4345, 768, 449, 1057, 6637, 4886, 5521, 1190, 373, 665, 4425, 6345, 1334, 5653, 1746, 6040, 275, 5820, 820, 2017, 6047, 4711, 2686, 1638, 6513, 5855, 1111, 3205, 5150, 3088, 4502, 3113, 1803, 292, 6116, 5299, 5694, 4037, 4094, 3483, 1070, 279, 912, 1748, 2903, 4645, 3710, 3676, 4138, 6905, 5164, 506, 5702, 3, 2881, 3271, 2922, 1902, 3666, 6474, 2285, 3459, 5046, 2500, 5743, 262, 5285, 1140, 4493, 1918, 2893, 955, 4979, 276, 3906, 4856, 1470, 5108, 6360, 5478, 5958, 107, 189, 3066, 2927, 6042, 1246, 1436, 2600, 5152, 2675, 5435, 5608, 3020, 1905, 5112, 1179, 6413, 1919, 5932, 770, 4584, 5010, 3476, 6111, 4045, 3923, 5925, 158, 363, 1431, 6600, 3218, 5059, 4487, 1032, 5172, 5288, 6712, 4181, 6338, 6427, 6530, 1698, 4893, 1398, 1199, 2982, 979, 3327, 6696, 2337, 3756, 634, 4838, 1767, 1649, 2557, 4065, 5439, 1908, 3584, 6299, 3370, 3604, 4599, 2821, 3192, 4385, 1135, 2387, 5353, 3070, 4058, 5767, 3669, 6380, 2369, 3870, 2921, 2620, 6723, 2858, 2990, 1603, 3195, 2439, 1661, 899, 1092, 6054, 5396, 3504, 232, 6445, 61, 2638, 4407, 4366, 6503, 4481, 3212, 270, 1963, 3221, 2275, 705, 3948, 4987, 5672, 4758, 6356, 1866, 5420, 5798, 128, 928, 4912, 3378, 2137, 337, 3559, 6068, 3546, 4613, 4703, 4928, 6818, 5600, 2288, 6572, 1880, 175, 6923, 4817, 2555, 5560, 2653, 2249, 67, 763, 2204, 2777, 6937, 924, 5502, 6878, 6163, 2736, 6236, 2309, 999, 2172, 56, 165, 6587, 1618, 6924, 246, 3448, 3755, 5143, 5929, 3106, 804, 4053, 2560, 1660, 4805, 1265, 2578, 40, 4992, 6146, 2, 6465, 5661, 780, 1378, 1259, 6482, 647, 347, 2644, 5938, 3649, 3619, 2068, 4591, 1755, 2154, 2485, 6949, 2362, 6492, 821, 4105, 2723, 122, 2655, 6705, 5232, 4346, 1416, 3331, 317, 3419, 5217, 5283, 3625, 905, 6745, 2126, 3539, 2436, 5960, 512, 6131, 3358, 6256, 6309, 6007, 6615, 6843, 3571, 5998, 5406, 6414, 2983, 375, 6219, 125, 1639, 4224, 3772, 4557, 454, 526, 5273, 1275, 1296, 4683, 2343, 5936, 3646, 484, 4012, 4288, 2327, 1148, 5927, 5021, 5861, 1957, 1196, 6934, 406, 1376, 2165, 6936, 398, 2019, 2200, 6187, 3765, 6344, 1689, 1268, 3282, 3732, 4727, 412, 846, 3695, 3945, 6595, 6697, 3857, 3919, 4194, 6565, 5278, 2478, 1028, 3426, 3258, 6306, 4766, 6093, 4801, 966, 6612, 5482, 5754, 5222, 5286, 1563, 6091, 3484, 2035, 3721, 2915, 6698, 5424, 864, 3191, 5296, 2353, 5811, 88, 5989, 2570, 897, 6556, 3209, 6083, 2455, 1446, 5281, 639, 176, 615, 4184, 3038, 4078, 6018, 3981, 4074, 819, 6589, 5563, 2417, 6085, 4775, 2145, 4238, 478, 4722, 4819, 1280, 4016, 5826, 330, 3776, 3166, 2399, 4993, 2479, 6562, 6928, 4588, 1450, 1804, 3797, 828, 5532, 1531, 5423, 455, 283, 2783, 4328, 74, 5259, 36, 387, 4538, 6642, 4302, 2613, 193, 3647, 6888, 1820, 4917, 3003, 1134, 1243, 5103, 5122, 1667, 6118, 6973, 5554, 6586, 1727, 3975, 2948, 6318, 5858, 4545, 3291, 4910, 6443, 895, 411, 2693, 4874, 6847, 2107, 3780, 2625, 1700, 6493, 396, 1345, 3805, 6632, 6711, 5603, 5016, 6238, 395, 145, 5369, 6472, 990, 4750, 4379, 1119, 5106, 2067, 5158, 4164, 4644, 6218, 3198, 4205, 916, 1189, 4806, 5755, 2826, 2770, 2041, 4507, 159, 4043, 5442, 602, 3388, 5268, 2558, 3453, 5949, 4927, 1779, 5314, 2979, 5688, 824, 4729, 1783, 19, 4793, 2141, 814, 4398, 2894, 628, 4303, 6347, 1269, 5293, 1911, 4705, 3993, 2824, 5026, 5797, 3803, 1029, 6283, 728, 2694, 5962, 1427, 3365, 4657, 293, 6629, 6466, 4681, 2641, 3661, 3537, 1139, 271, 1758, 3737, 3762, 5512, 4343, 2751, 3356, 5882, 6285, 4792, 5467, 759, 127, 5015, 2358, 4849, 5940, 303, 3098, 46, 6401, 3143, 4418, 3575, 332, 3463, 791, 3387, 1336, 4944, 4749, 234, 6094, 2897, 772, 4697, 5785, 5177, 4743, 5760, 6676, 1171, 812, 2586, 1833, 1442, 3468, 4710, 1663, 1708, 2564, 2731, 957, 3142, 4410, 1941, 4197, 1249, 3318, 6354, 1322, 4449, 5920, 98, 3002, 3718, 3665, 2155, 6864, 4177, 6353, 5617, 4072, 2609, 6566, 3043, 3074, 2042, 1037, 983, 4236, 1462, 3245, 240, 3364, 2980, 1342, 5305, 2222, 537, 3371, 3884, 4800, 2447, 4144, 1778, 4741, 6467, 2907, 5389, 3942, 2505, 4659, 2075, 49, 96, 1706, 6317, 4081, 4175, 6162, 6662, 3989, 3878, 4239, 1656, 6763, 1257, 6026, 1082, 4623, 5551, 6991, 6535, 2243, 1165, 3460, 1484, 5633, 3267, 3230, 6560, 5778, 6392, 2612, 988, 6333, 1691, 6601, 6644, 2670, 114, 6421, 1711, 2908, 409, 2721, 1069, 6476, 5405, 2748, 2549, 1709, 5658, 4141, 87, 2138, 2499, 3634, 1175, 3816, 3964, 1681, 6012, 3016, 6622, 931, 5337, 5731, 5775, 5821, 642, 6348, 594, 4456, 1947, 1519, 1236, 319, 3278, 1537, 1053, 5484, 2924, 6192, 3437, 6129, 2304, 1645, 530, 2870, 2976, 4015, 4770, 5387, 913, 6832, 1562, 752, 3223, 5486, 4862, 6859, 521, 4093, 473, 3444, 5084, 3467, 5219, 975, 3130, 1421, 2026, 1492, 2159, 3664, 5362, 6102, 3650, 381, 5459, 3048, 6265, 2636, 1422, 5428, 2619, 653, 6341, 608, 335, 6048, 2340, 2700, 5721, 6406, 1817, 1067, 5398, 4606, 5336, 4842, 4223, 6964, 4250, 487, 5465, 5542, 2064, 1598, 6897, 5455, 4301, 6656, 6140, 4147, 2168, 3159, 5487, 2171, 1230, 1281, 3784, 6537, 1790, 2209, 1072, 1630, 313, 3314, 327, 2757, 4259, 1705, 952, 137, 1934, 5569, 5639, 2457, 4587, 287, 2754, 5452, 1510, 508, 2411, 5235, 462, 2049, 1272, 607, 6570, 4515, 3397, 6597, 1499, 5993, 94, 1351, 2635, 4721, 5926, 1355, 4471, 5001, 2188, 4972, 894, 603, 4787, 2689, 798, 6415, 1349, 4578, 2796, 5239, 6170, 5594, 1123, 5228, 1468, 1846, 1153, 1946, 6103, 5282, 3049, 2415, 3597, 3434, 4684, 2065, 5245, 6885, 3062, 6226, 1400, 1991, 511, 2724, 960, 6404, 6389, 4549, 6481, 1454, 3969, 34, 3470, 1260, 4071, 1183, 4357, 4378, 2497, 818, 6633, 5472, 3589, 2526, 204, 2867, 5728, 5287, 6583, 3748, 4913, 3787, 2104, 801, 4889, 2898, 4900, 6960, 2333, 1409, 5126, 4662, 601, 767, 1033, 3361, 1145, 3861, 2659, 7001, 5914, 6382, 5558, 5593, 2904, 1299, 3842, 5782, 6801, 3352, 6604, 4270, 1574, 1434, 2572, 2134, 3146, 2604, 3116, 3596, 263, 2055, 1216, 6846, 5523, 3905, 6494, 1106, 880, 1008, 2205, 1063, 5500, 4409, 4497, 6461, 3872, 6385, 5599, 2044, 2176, 4603, 338, 5765, 2552, 1737, 5801, 6789, 2429, 4404, 793, 4020, 2849, 1130, 4723, 42, 1657, 635, 186, 2251, 2682, 5824, 3924, 2938, 6992, 5338, 3871, 1502, 5722, 3294, 286, 1895, 3761, 788, 1356, 2070, 3296, 5822, 6811, 3132, 2634, 3100, 1801, 229, 3685, 198, 3785, 5229, 1606, 6089, 4686, 3901, 4693, 6660, 6759, 6732, 4167, 2547, 1751, 687, 21, 2192, 4816, 2149, 3025, 2926, 1147, 5504, 5682, 1730, 58, 170, 1318, 6725, 4785, 5231, 3660, 4383, 173, 4367, 5095, 4767, 4522, 5052, 6386, 2470, 2217, 1173, 6159, 991, 553, 5325, 1295, 2608, 579, 6584, 2940, 4439, 532, 3877, 5963, 344, 3443, 1440, 5772, 2837, 5041, 1627, 760, 921, 1396, 6718, 5451, 1982, 1838, 2631, 3594, 5198, 910, 2228, 6028, 2678, 2476, 718, 528, 5062, 1525, 6351, 3306, 5481, 1742, 435, 6108, 3960, 3312, 2779, 4485, 2371, 2118, 3310, 1843, 1200, 4980, 4330, 6130, 393, 3683, 1159, 3497, 4326, 6227, 5885, 2262, 5149, 161, 660, 6508, 3767, 1872, 1247, 1990, 1073, 4344, 5770, 2093, 3565, 2316, 3496, 6489, 1932, 5985, 1962, 2698, 1816, 2477, 1583, 5799, 4182, 1926, 2220, 5696, 4153, 1560, 105, 4226, 1, 27, 3778, 5092, 4930, 4575, 6161, 3824, 2296, 6691, 1795, 6940, 1448, 3651, 2253, 6579, 1621, 6304, 2533, 4719, 4962, 6929, 6070, 6101, 5123, 1313, 4844, 5584, 1087, 3643, 1149, 6977, 863, 134, 2221, 6165, 5526, 2219, 4087, 5701, 2760, 6293, 6435, 3269, 5034, 5951, 5096, 4463, 5606, 2713, 6178, 689, 2663, 981, 1577, 6189, 2912, 3654, 3911, 2136, 2005, 2958, 605, 6383, 306, 2475, 5460, 2010, 3583, 6416, 6009, 2918, 641, 5168, 832, 6533, 4740, 1814, 1358, 774, 1684, 5378, 4536, 479, 1989, 5491, 2256, 4358, 2766, 3469, 4969, 3903, 1226, 1882, 3450, 402, 1348, 3954, 2577, 3028, 4111, 3149, 1954, 4786, 1818, 4285, 3242, 6770, 751, 2804, 2806, 4895, 4579, 5843, 4499, 3384, 3722, 2173, 1672, 3095, 6634, 3606, 5065, 2254, 1083, 6609, 2843, 5457, 5351, 920, 6439, 6, 1569, 3947, 505, 3339, 2685, 6117, 1725, 2801, 1892, 6168, 4034, 5128, 2282, 5263, 6921, 5308, 696, 4825, 4461, 4532, 695, 6683, 2878, 6171, 720, 3089, 4329, 4075, 3298, 3707, 871, 4112, 4940, 394, 5432, 5421, 2643, 2437, 597, 2761, 2832, 3636, 3415, 1146, 5708, 6925, 3602, 1821, 1763, 6499, 2692, 2712, 909, 3280, 3225, 138, 139, 756, 6994, 5402, 4244, 346, 2082, 1203, 6223, 3749, 2276, 4663, 5766, 6935, 70, 2094, 5874, 166, 3900, 998, 4478, 5480, 2444, 5050, 1571, 6823, 6731, 4187, 4810, 5307, 1019, 5159, 3485, 6919, 4524, 3622, 6918, 5921, 284, 237, 6978, 5976, 3531, 1615, 420, 2567, 6702, 4945, 2178, 5891, 3454, 6872, 5735, 4590, 4850, 5809, 54, 5614, 2741, 5183, 6719, 2930, 2386, 1889, 3859, 1671, 4368, 5167, 4050, 3838, 4543, 1034, 3739, 3821, 3949, 6653, 1782, 1685, 1040, 5155, 3168, 181, 748, 371, 2997, 3161, 4348, 3585, 3112, 1869, 5003, 1373, 844, 362, 6729, 1155, 3542, 6314, 1068, 3638, 4649, 2096, 815, 2329, 6274, 4617, 1749, 4826, 6071, 2965, 5794, 1503, 893, 541, 2473, 2556, 6115, 4376, 6815, 5136, 136, 5552, 1315, 1557, 6500, 1805, 3465, 6678, 1581, 4415, 5234, 4638, 5009, 5838, 4742, 5859, 4044, 5911, 3322, 777, 4976, 654, 2891, 3162, 875, 4098, 244, 2242, 2892, 5537, 1363, 3974, 3804, 713, 2175, 6279, 2193, 2830, 4332, 5206, 2225, 610, 1610, 6553, 5437, 5265], [124, 538, 4630, 4894, 1985, 4352, 3217, 4413, 2715, 5664, 3438, 1490, 2335, 734, 1894, 531, 2992, 1316, 408, 3898, 5358, 5852, 4762, 3487, 2744, 4380, 4200, 1424, 89, 4572, 401, 569, 3617, 3635, 5559, 6531, 2231, 5915, 3963, 5642, 4725, 5202, 4781, 2703, 3054, 6366, 6567, 4735, 4845, 23, 1940, 3382, 3429, 5747, 2995, 4484, 1607, 2109, 1474, 6036, 4582, 1109, 3261, 5631, 4124, 1953, 2040, 4421, 5918, 6053, 2672, 6943, 457, 83, 6065, 3176, 4732, 1014, 4363, 6804, 6828, 3855, 4926, 6176, 717, 679, 1350, 6716, 4576, 2435, 5120, 2057, 3041, 5100, 4635, 5190, 6152, 5187, 4254, 3301, 6762, 6424, 4131, 1772, 6983, 1444, 1423, 4459, 2624, 7000, 5931, 5409, 6986, 5524, 6555, 4419, 5030, 3479, 4234, 4441, 5391, 1381, 6145, 1088, 1331, 370, 3036, 5254, 6673, 2880, 6057, 5157, 2266, 4432, 5356, 3399, 5395, 2888, 978, 1258, 4283, 2037, 1461, 1312, 941, 677, 205, 281, 6611, 5660, 5527, 2089, 6931, 2348, 3295, 1471, 372, 6056, 1791, 3613, 1665, 1232, 2606, 2398, 157, 1623, 2542, 2182, 6965, 5574, 2224, 5632, 3533, 4789, 460, 5386, 3896, 5670, 6838, 1548, 6039, 4653, 741, 5742, 6072, 1614, 4909, 6339, 6292, 6059, 3014, 3435, 1936, 466, 4942, 892, 3128, 6741, 6576, 2402, 2418, 6999, 5416, 3363, 6033, 1041, 4137, 4990, 6321, 5005, 4063, 2946, 6771, 5002, 617, 2071, 4431, 2862, 3323, 1514, 4412, 400, 1384, 5713, 1284, 427, 2674, 2899, 1913, 1854, 5840, 3652, 2646, 5781, 3299, 6119, 1433, 1849, 2506, 2691, 3175, 3254, 3897, 1549, 1687, 3056, 6428, 4390, 1576, 1214, 5070, 6552, 4009, 5566, 1592, 3340, 3928, 6190, 2835, 3353, 4777, 3277, 3441, 2053, 3658, 901, 2187, 5999, 5655, 5645, 2580, 5408, 239, 354, 4101, 1587, 5590, 5444, 5522, 958, 2331, 2367, 6195, 1952, 1210, 4488, 6648, 3746, 4123, 3751, 3439, 671, 6794, 3031, 1090, 5468, 459, 5331, 4143, 6782, 3892, 6922, 5602, 6069, 2428, 2756, 3174, 3341, 3428, 3266, 1840, 3904, 1301, 3611, 5223, 5119, 4988, 4539, 2179, 6845, 3687, 724, 3610, 3102, 1568, 39, 3827, 5744, 1678, 6050, 6112, 6138, 1098, 4452, 5812, 1567, 1233, 4322, 2789, 2291, 6177, 6825, 2950, 3511, 6781, 4116, 3572, 3224, 1850, 3837, 4228, 2539, 6906, 4984, 3731, 1750, 5545, 4712, 6384, 6630, 965, 4209, 5675, 3524, 6308, 4208, 357, 5020, 5195, 112, 2876, 2097, 4060, 2106, 5375, 2313, 1931, 3289, 4803, 2834, 3097, 1836, 2043, 6987, 2605, 5978, 1023, 3383, 2732, 230, 316, 4038, 2996, 4069, 361, 6955, 1256, 5165, 5746, 762, 5757, 1622, 238, 3011, 380, 6230, 2981, 2426, 2917, 2423, 100, 5577, 220, 6478, 130, 5129, 6915, 3579, 5530, 4476, 6708, 3648, 6979, 5630, 6243, 6675, 2087, 5900, 1292, 6792, 6774, 3560, 3815, 2199, 3518, 2431, 5643, 5787, 3203, 3543, 6881, 3536, 5904, 4523, 6092, 5495, 3244, 2471, 1310, 4268, 488, 298, 6455, 440, 1714, 4583, 3071, 3330, 4219, 3841, 2676, 4090, 12, 1242, 1876, 3452, 6122, 583, 5864, 571, 146, 6066, 1496, 6824, 5928, 1052, 3499, 2602, 2896, 3449, 3839, 2274, 3615, 4756, 3211, 1873, 1784, 6524, 2183, 6866, 4829, 3868, 2345, 4542, 3458, 3164, 2409, 1432, 4879, 6596, 3213, 1059, 1647, 312, 727, 4802, 2299, 4832, 6329, 4629, 2264, 6884, 673, 1971, 3603, 4271, 6364, 3899, 2077, 3881, 2975, 3760, 4095, 1766, 5313, 5042, 2311, 5736, 1020, 6441, 3241, 3628, 5705, 4941, 6248, 5297, 2448, 6420, 277, 829, 4760, 1122, 4173, 6988, 5082, 968, 5851, 106, 4455, 6105, 6060, 2406, 2828, 4796, 5750, 483, 3876, 1337, 3754, 2009, 2186, 1298, 5311, 2213, 3409, 1879, 5135, 4115, 1721, 6234, 4631, 1981, 5890, 4387, 1050, 1986, 2872, 4813, 10, 5862, 6019, 5662, 1044, 6037, 1385, 1578, 2022, 2886, 4445, 6758, 3489, 3284, 936, 2518, 5138, 2842, 2599, 5650, 2306, 6174, 6640, 5154, 2357, 6064, 6250, 5899, 1668, 2356, 4451, 4783, 6446, 2827, 3522, 4222, 5579, 5022, 5849, 5783, 3461, 551, 5656, 1554, 2637, 4498, 2454, 6017, 4408, 1435, 5436, 2719, 731, 1100, 6475, 637, 4627, 6909, 376, 452, 4861, 3978, 5427, 6772, 3679, 5361, 934, 1482, 1732, 1099, 2925, 6046, 3823, 1943, 2530, 5113, 5792, 2033, 5006, 1195, 3342, 5316, 3642, 3377, 6735, 4342, 2957, 1224, 5941, 5462, 6836, 463, 2576, 1217, 3264, 2207, 5295, 6951, 4633, 4267, 4082, 4443, 4920, 5208, 1644, 2951, 813, 2699, 3541, 6408, 4728, 1455, 5516, 5499, 4311, 5620, 5733, 4092, 2860, 5636, 3259, 6172, 4700, 4791, 151, 2802, 6363, 5764, 6848, 5605, 6322, 5413, 1865, 4392, 5649, 5073, 6480, 4248, 2856, 5795, 2861, 4272, 5438, 6395, 5339, 5186, 574, 6829, 5036, 1445, 6270, 797, 4019, 1168, 5007, 4696, 6796, 2074, 5850, 5182, 5053, 5788, 6343, 5029, 2261, 3630, 5779, 6682, 6016, 6667, 6434, 4375, 3757, 631, 1002, 1949, 47, 2366, 1640, 869, 6636, 2464, 3548, 1761, 5857, 355, 903, 282, 6661, 1197, 3248, 77, 2985, 3182, 3852, 5139, 4256, 297, 436, 4088, 4178, 5716, 5349, 248, 6677, 2012, 593, 6814, 5105, 80, 2016, 3668, 2750, 3059, 926, 4527, 3156, 2645, 766, 6381, 2048, 5201, 6852, 3270, 3612, 699, 5140, 6429, 2986, 1969, 3854, 3515, 2298, 5784, 6132, 4795, 6239, 1686, 1824, 4836, 6785, 2391, 3982, 4150, 4929, 1710, 943, 1628, 5249, 1796, 4125, 2157, 4472, 858, 2970, 5018, 3257, 2803, 4757, 3570, 5595, 904, 5054, 2974, 305, 3701, 6369, 6462, 1529, 4955, 6357, 486, 3956, 750, 6821, 6512, 1597, 5505, 3139, 4932, 6209, 2873, 3196, 3552, 2341, 1995, 60, 6185, 345, 651, 3021, 2395, 6850, 20, 6082, 6307, 1177, 5040, 5748, 300, 2966, 2814, 5981, 1415, 6728, 5878, 6970, 2029, 2492, 1016, 1365, 5448, 4251, 5134, 3684, 543, 830, 1066, 132, 4089, 491, 6822, 5072, 2730, 5390, 66, 5652, 925, 4915, 5789, 3690, 2169, 253, 501, 6650, 535, 118, 1881, 2284, 266, 4079, 1851, 1013, 6325, 6479, 6877, 6183, 2180, 6956, 1464, 3065, 953, 2722, 4086, 5340, 324, 4134, 4763, 3471, 2575, 6087, 664, 194, 6942, 2114, 587, 1792, 3197, 3232, 6099, 5019, 1890, 3080, 5536, 561, 3421, 633, 6742, 5870, 5453, 48, 1717, 3682, 6468, 1731, 3440, 4841, 2911, 5988, 4139, 4581, 392, 5807, 288, 4414, 121, 4496, 5087, 5848, 4985, 810, 410, 2401, 2351, 4878, 779, 3173, 6166, 1039, 5793, 4360, 802, 6974, 5066, 1579, 4168, 4269, 385, 1411, 1812, 6569, 6212, 2184, 4500, 2360, 5312, 1862, 386, 2375, 5888, 5473, 1267, 4521, 783, 5629, 2680, 1248, 3420, 5055, 6280, 5013, 5475, 3000, 6861, 2216, 1353, 649, 1451, 2963, 1988, 6980, 4530, 4852, 6894, 5189, 4444, 5571, 2853, 5322, 3817, 625, 5719, 6895, 2404, 623, 2203, 2059, 4620, 5011, 3158, 993, 2325, 5712, 4669, 1976, 1240, 4601, 522, 5780, 7003, 2743, 6515, 1194, 3362, 4553, 1460, 2001, 902, 3200, 4937, 6671, 744, 2513, 1201, 3073, 6688, 424, 383, 2737, 3556, 5137, 2543, 4687, 6778, 5513, 3698, 2863, 2308, 5983, 6985, 6755, 3740, 4602, 4949, 2759, 311, 3235, 1276, 1736, 1977, 6160, 3845, 2571, 2131, 1584, 6695, 6272, 6436, 1507, 2422, 4761, 4032, 5762, 567, 5344, 4834, 4422, 1428, 2629, 5479, 1302, 3406, 1131, 883, 3045, 4001, 1823, 4221, 6957, 4278, 2874, 1552, 5578, 2334, 6834, 126, 3972, 3121, 5279, 4052, 1719, 5156, 2838, 2538, 6506, 6704, 4040, 4362, 3931, 6202, 1344, 1024, 6262, 6261, 4240, 4512, 4983, 2648, 5540, 3777, 2376, 6724, 1701, 2673, 4570, 1343, 5565, 6148, 2336, 1666, 405, 1651, 2879, 1329, 3404, 1001, 4297, 606, 4782, 6889, 2805, 4129, 5805, 2277, 1262, 6902, 5814, 6010, 4544, 4899, 5116, 4064, 2385, 5587, 2388, 1960, 3992, 4973, 5320, 841, 5014, 1523, 5910, 879, 2091, 3081, 1551, 3663, 4477, 3578, 1915, 6603, 778, 2060, 4290, 851, 5704, 2379, 4824, 4374, 91, 5916, 6707, 1209, 5458, 5031, 942, 3373, 3207, 64, 6805, 5342, 3712, 5160, 4229, 985, 1694, 982, 6791, 5651, 5768, 878, 201, 2656, 686, 6324, 2791, 4327, 2871, 4351, 725, 2705, 6840, 2459, 1998, 141, 4022, 4282, 6035, 1306, 808, 3921, 1366, 3677, 6295, 499, 3514, 4640, 6263, 3736, 6672, 6100, 5069, 3283, 4857, 1104, 6868, 754, 5211, 6842, 4531, 3557, 2971, 782, 3096, 5680, 3051, 655, 5192, 4128, 1979, 3591, 6393, 2902, 4739, 6240, 6096, 5081, 1114, 1596, 4982, 3401, 3343, 3742, 2708, 1368, 6204, 5067, 1382, 3888, 4047, 6806, 2412, 6860, 5359, 2433, 621, 1910, 3039, 2531, 547, 3305, 5739, 3790, 3422, 6433, 389, 5326, 5611, 4947, 789, 6107, 1522, 5169, 6297, 1781, 809, 614, 825, 5144, 2098, 6180, 4369, 5163, 219, 5431, 1304, 4609, 1553, 212, 3477, 3436, 847, 2051, 5171, 6269, 2591, 4869, 52, 1771, 4911, 423, 6207, 2661, 4000, 5419, 5045, 1076, 6287, 5869, 5343, 5546, 2061, 2936, 4569, 2706, 5323, 2289, 2994, 5506, 3069, 3017, 2817, 2361, 959, 6491, 662, 190, 6793, 4666, 73, 6139, 4119, 855, 2352, 1113, 2133, 1395, 866, 4812, 2452, 729])\n"
     ]
    }
   ],
   "source": [
    "# ts = get_forecasting_time_series(\"Sunspots\").values\n",
    "# X, y = SlidingWindow(1000, horizon=3)(ts)\n",
    "# splits = TimeSplitter(235)(y) \n",
    "print(X.shape)\n",
    "\n",
    "print(trainset_y[0:100])\n",
    "# print(ts)\n",
    "print(splits)\n"
   ]
  },
  {
   "cell_type": "code",
   "execution_count": null,
   "id": "F-O8OkRmKDoZ",
   "metadata": {
    "colab": {
     "base_uri": "https://localhost:8080/"
    },
    "id": "F-O8OkRmKDoZ",
    "outputId": "545bbc30-0eed-4f02-8eca-3d56464763e5"
   },
   "outputs": [
    {
     "name": "stdout",
     "output_type": "stream",
     "text": [
      "4982\n",
      "2022\n"
     ]
    }
   ],
   "source": [
    "nFoG = [element for element in trainset_y if element == 0]\n",
    "print(len(nFoG))\n",
    "\n",
    "FoG = [element for element in trainset_y if element == 1]\n",
    "print(len(FoG))"
   ]
  },
  {
   "cell_type": "code",
   "execution_count": null,
   "id": "YcQmj16xYZJp",
   "metadata": {
    "colab": {
     "base_uri": "https://localhost:8080/",
     "height": 1000
    },
    "id": "YcQmj16xYZJp",
    "outputId": "8e5bb055-106f-4a38-90a4-25cea83f3d6e"
   },
   "outputs": [
    {
     "data": {
      "text/html": [
       "\n",
       "<style>\n",
       "    /* Turns off some styling */\n",
       "    progress {\n",
       "        /* gets rid of default border in Firefox and Opera. */\n",
       "        border: none;\n",
       "        /* Needs to be in here for Safari polyfill so background images work as expected. */\n",
       "        background-size: auto;\n",
       "    }\n",
       "    progress:not([value]), progress:not([value])::-webkit-progress-bar {\n",
       "        background: repeating-linear-gradient(45deg, #7e7e7e, #7e7e7e 10px, #5c5c5c 10px, #5c5c5c 20px);\n",
       "    }\n",
       "    .progress-bar-interrupted, .progress-bar-interrupted::-webkit-progress-bar {\n",
       "        background: #F44336;\n",
       "    }\n",
       "</style>\n"
      ],
      "text/plain": [
       "<IPython.core.display.HTML object>"
      ]
     },
     "metadata": {},
     "output_type": "display_data"
    },
    {
     "data": {
      "text/html": [
       "<table border=\"1\" class=\"dataframe\">\n",
       "  <thead>\n",
       "    <tr style=\"text-align: left;\">\n",
       "      <th>epoch</th>\n",
       "      <th>train_loss</th>\n",
       "      <th>valid_loss</th>\n",
       "      <th>f1_score</th>\n",
       "      <th>recall_score</th>\n",
       "      <th>time</th>\n",
       "    </tr>\n",
       "  </thead>\n",
       "  <tbody>\n",
       "    <tr>\n",
       "      <td>0</td>\n",
       "      <td>0.562491</td>\n",
       "      <td>0.526226</td>\n",
       "      <td>0.729686</td>\n",
       "      <td>0.727683</td>\n",
       "      <td>00:12</td>\n",
       "    </tr>\n",
       "    <tr>\n",
       "      <td>1</td>\n",
       "      <td>0.450902</td>\n",
       "      <td>0.433711</td>\n",
       "      <td>0.744781</td>\n",
       "      <td>0.730775</td>\n",
       "      <td>00:06</td>\n",
       "    </tr>\n",
       "    <tr>\n",
       "      <td>2</td>\n",
       "      <td>0.408326</td>\n",
       "      <td>0.378088</td>\n",
       "      <td>0.804435</td>\n",
       "      <td>0.804659</td>\n",
       "      <td>00:04</td>\n",
       "    </tr>\n",
       "    <tr>\n",
       "      <td>3</td>\n",
       "      <td>0.360460</td>\n",
       "      <td>0.334351</td>\n",
       "      <td>0.820818</td>\n",
       "      <td>0.820818</td>\n",
       "      <td>00:04</td>\n",
       "    </tr>\n",
       "    <tr>\n",
       "      <td>4</td>\n",
       "      <td>0.334533</td>\n",
       "      <td>0.304694</td>\n",
       "      <td>0.827721</td>\n",
       "      <td>0.824367</td>\n",
       "      <td>00:04</td>\n",
       "    </tr>\n",
       "    <tr>\n",
       "      <td>5</td>\n",
       "      <td>0.313870</td>\n",
       "      <td>0.295632</td>\n",
       "      <td>0.835094</td>\n",
       "      <td>0.841321</td>\n",
       "      <td>00:04</td>\n",
       "    </tr>\n",
       "    <tr>\n",
       "      <td>6</td>\n",
       "      <td>0.305387</td>\n",
       "      <td>0.319271</td>\n",
       "      <td>0.816102</td>\n",
       "      <td>0.829973</td>\n",
       "      <td>00:05</td>\n",
       "    </tr>\n",
       "    <tr>\n",
       "      <td>7</td>\n",
       "      <td>0.312301</td>\n",
       "      <td>0.307883</td>\n",
       "      <td>0.823771</td>\n",
       "      <td>0.812363</td>\n",
       "      <td>00:04</td>\n",
       "    </tr>\n",
       "    <tr>\n",
       "      <td>8</td>\n",
       "      <td>0.292039</td>\n",
       "      <td>0.263724</td>\n",
       "      <td>0.870493</td>\n",
       "      <td>0.870765</td>\n",
       "      <td>00:05</td>\n",
       "    </tr>\n",
       "    <tr>\n",
       "      <td>9</td>\n",
       "      <td>0.273197</td>\n",
       "      <td>0.279045</td>\n",
       "      <td>0.845010</td>\n",
       "      <td>0.848582</td>\n",
       "      <td>00:06</td>\n",
       "    </tr>\n",
       "    <tr>\n",
       "      <td>10</td>\n",
       "      <td>0.301760</td>\n",
       "      <td>0.268490</td>\n",
       "      <td>0.852122</td>\n",
       "      <td>0.865303</td>\n",
       "      <td>00:05</td>\n",
       "    </tr>\n",
       "    <tr>\n",
       "      <td>11</td>\n",
       "      <td>0.264034</td>\n",
       "      <td>0.253527</td>\n",
       "      <td>0.874224</td>\n",
       "      <td>0.880597</td>\n",
       "      <td>00:05</td>\n",
       "    </tr>\n",
       "    <tr>\n",
       "      <td>12</td>\n",
       "      <td>0.254848</td>\n",
       "      <td>0.256771</td>\n",
       "      <td>0.849725</td>\n",
       "      <td>0.848185</td>\n",
       "      <td>00:05</td>\n",
       "    </tr>\n",
       "    <tr>\n",
       "      <td>13</td>\n",
       "      <td>0.264814</td>\n",
       "      <td>0.243142</td>\n",
       "      <td>0.866616</td>\n",
       "      <td>0.873136</td>\n",
       "      <td>00:05</td>\n",
       "    </tr>\n",
       "    <tr>\n",
       "      <td>14</td>\n",
       "      <td>0.265373</td>\n",
       "      <td>0.251060</td>\n",
       "      <td>0.875341</td>\n",
       "      <td>0.874513</td>\n",
       "      <td>00:05</td>\n",
       "    </tr>\n",
       "    <tr>\n",
       "      <td>15</td>\n",
       "      <td>0.226384</td>\n",
       "      <td>0.232694</td>\n",
       "      <td>0.877380</td>\n",
       "      <td>0.869667</td>\n",
       "      <td>00:05</td>\n",
       "    </tr>\n",
       "    <tr>\n",
       "      <td>16</td>\n",
       "      <td>0.221921</td>\n",
       "      <td>0.267695</td>\n",
       "      <td>0.857482</td>\n",
       "      <td>0.855645</td>\n",
       "      <td>00:05</td>\n",
       "    </tr>\n",
       "    <tr>\n",
       "      <td>17</td>\n",
       "      <td>0.254502</td>\n",
       "      <td>0.211942</td>\n",
       "      <td>0.898400</td>\n",
       "      <td>0.913510</td>\n",
       "      <td>00:05</td>\n",
       "    </tr>\n",
       "    <tr>\n",
       "      <td>18</td>\n",
       "      <td>0.220762</td>\n",
       "      <td>0.226102</td>\n",
       "      <td>0.884673</td>\n",
       "      <td>0.882977</td>\n",
       "      <td>00:05</td>\n",
       "    </tr>\n",
       "    <tr>\n",
       "      <td>19</td>\n",
       "      <td>0.190784</td>\n",
       "      <td>0.214334</td>\n",
       "      <td>0.897110</td>\n",
       "      <td>0.902978</td>\n",
       "      <td>00:06</td>\n",
       "    </tr>\n",
       "    <tr>\n",
       "      <td>20</td>\n",
       "      <td>0.198894</td>\n",
       "      <td>0.211953</td>\n",
       "      <td>0.897896</td>\n",
       "      <td>0.903480</td>\n",
       "      <td>00:05</td>\n",
       "    </tr>\n",
       "    <tr>\n",
       "      <td>21</td>\n",
       "      <td>0.184644</td>\n",
       "      <td>0.215773</td>\n",
       "      <td>0.898896</td>\n",
       "      <td>0.901542</td>\n",
       "      <td>00:05</td>\n",
       "    </tr>\n",
       "    <tr>\n",
       "      <td>22</td>\n",
       "      <td>0.196895</td>\n",
       "      <td>0.204103</td>\n",
       "      <td>0.896216</td>\n",
       "      <td>0.912740</td>\n",
       "      <td>00:05</td>\n",
       "    </tr>\n",
       "    <tr>\n",
       "      <td>23</td>\n",
       "      <td>0.177360</td>\n",
       "      <td>0.206661</td>\n",
       "      <td>0.896078</td>\n",
       "      <td>0.897829</td>\n",
       "      <td>00:05</td>\n",
       "    </tr>\n",
       "    <tr>\n",
       "      <td>24</td>\n",
       "      <td>0.192402</td>\n",
       "      <td>0.233559</td>\n",
       "      <td>0.878248</td>\n",
       "      <td>0.892635</td>\n",
       "      <td>00:05</td>\n",
       "    </tr>\n",
       "    <tr>\n",
       "      <td>25</td>\n",
       "      <td>0.198402</td>\n",
       "      <td>0.195250</td>\n",
       "      <td>0.905215</td>\n",
       "      <td>0.901646</td>\n",
       "      <td>00:05</td>\n",
       "    </tr>\n",
       "    <tr>\n",
       "      <td>26</td>\n",
       "      <td>0.165808</td>\n",
       "      <td>0.204133</td>\n",
       "      <td>0.901876</td>\n",
       "      <td>0.909902</td>\n",
       "      <td>00:06</td>\n",
       "    </tr>\n",
       "    <tr>\n",
       "      <td>27</td>\n",
       "      <td>0.189486</td>\n",
       "      <td>0.223149</td>\n",
       "      <td>0.886890</td>\n",
       "      <td>0.905980</td>\n",
       "      <td>00:05</td>\n",
       "    </tr>\n",
       "    <tr>\n",
       "      <td>28</td>\n",
       "      <td>0.133043</td>\n",
       "      <td>0.190038</td>\n",
       "      <td>0.907138</td>\n",
       "      <td>0.911945</td>\n",
       "      <td>00:05</td>\n",
       "    </tr>\n",
       "    <tr>\n",
       "      <td>29</td>\n",
       "      <td>0.148516</td>\n",
       "      <td>0.193084</td>\n",
       "      <td>0.902117</td>\n",
       "      <td>0.907462</td>\n",
       "      <td>00:05</td>\n",
       "    </tr>\n",
       "    <tr>\n",
       "      <td>30</td>\n",
       "      <td>0.126886</td>\n",
       "      <td>0.195800</td>\n",
       "      <td>0.902437</td>\n",
       "      <td>0.901845</td>\n",
       "      <td>00:05</td>\n",
       "    </tr>\n",
       "    <tr>\n",
       "      <td>31</td>\n",
       "      <td>0.129962</td>\n",
       "      <td>0.189968</td>\n",
       "      <td>0.903424</td>\n",
       "      <td>0.906994</td>\n",
       "      <td>00:05</td>\n",
       "    </tr>\n",
       "    <tr>\n",
       "      <td>32</td>\n",
       "      <td>0.123360</td>\n",
       "      <td>0.177925</td>\n",
       "      <td>0.905673</td>\n",
       "      <td>0.907765</td>\n",
       "      <td>00:05</td>\n",
       "    </tr>\n",
       "    <tr>\n",
       "      <td>33</td>\n",
       "      <td>0.118399</td>\n",
       "      <td>0.178040</td>\n",
       "      <td>0.909134</td>\n",
       "      <td>0.911244</td>\n",
       "      <td>00:05</td>\n",
       "    </tr>\n",
       "    <tr>\n",
       "      <td>34</td>\n",
       "      <td>0.133131</td>\n",
       "      <td>0.174979</td>\n",
       "      <td>0.910704</td>\n",
       "      <td>0.916160</td>\n",
       "      <td>00:05</td>\n",
       "    </tr>\n",
       "    <tr>\n",
       "      <td>35</td>\n",
       "      <td>0.120981</td>\n",
       "      <td>0.178095</td>\n",
       "      <td>0.908467</td>\n",
       "      <td>0.911478</td>\n",
       "      <td>00:05</td>\n",
       "    </tr>\n",
       "    <tr>\n",
       "      <td>36</td>\n",
       "      <td>0.099788</td>\n",
       "      <td>0.185153</td>\n",
       "      <td>0.905782</td>\n",
       "      <td>0.904589</td>\n",
       "      <td>00:05</td>\n",
       "    </tr>\n",
       "    <tr>\n",
       "      <td>37</td>\n",
       "      <td>0.101620</td>\n",
       "      <td>0.177251</td>\n",
       "      <td>0.911409</td>\n",
       "      <td>0.912014</td>\n",
       "      <td>00:09</td>\n",
       "    </tr>\n",
       "    <tr>\n",
       "      <td>38</td>\n",
       "      <td>0.094064</td>\n",
       "      <td>0.172689</td>\n",
       "      <td>0.913399</td>\n",
       "      <td>0.915225</td>\n",
       "      <td>00:05</td>\n",
       "    </tr>\n",
       "    <tr>\n",
       "      <td>39</td>\n",
       "      <td>0.097143</td>\n",
       "      <td>0.178481</td>\n",
       "      <td>0.915936</td>\n",
       "      <td>0.917467</td>\n",
       "      <td>00:05</td>\n",
       "    </tr>\n",
       "    <tr>\n",
       "      <td>40</td>\n",
       "      <td>0.088260</td>\n",
       "      <td>0.168523</td>\n",
       "      <td>0.915360</td>\n",
       "      <td>0.909877</td>\n",
       "      <td>00:05</td>\n",
       "    </tr>\n",
       "    <tr>\n",
       "      <td>41</td>\n",
       "      <td>0.066273</td>\n",
       "      <td>0.166497</td>\n",
       "      <td>0.917549</td>\n",
       "      <td>0.918471</td>\n",
       "      <td>00:05</td>\n",
       "    </tr>\n",
       "    <tr>\n",
       "      <td>42</td>\n",
       "      <td>0.096975</td>\n",
       "      <td>0.167204</td>\n",
       "      <td>0.911794</td>\n",
       "      <td>0.914221</td>\n",
       "      <td>00:07</td>\n",
       "    </tr>\n",
       "    <tr>\n",
       "      <td>43</td>\n",
       "      <td>0.067788</td>\n",
       "      <td>0.167145</td>\n",
       "      <td>0.918712</td>\n",
       "      <td>0.921180</td>\n",
       "      <td>00:06</td>\n",
       "    </tr>\n",
       "    <tr>\n",
       "      <td>44</td>\n",
       "      <td>0.064953</td>\n",
       "      <td>0.166244</td>\n",
       "      <td>0.915813</td>\n",
       "      <td>0.916731</td>\n",
       "      <td>00:05</td>\n",
       "    </tr>\n",
       "    <tr>\n",
       "      <td>45</td>\n",
       "      <td>0.059323</td>\n",
       "      <td>0.165755</td>\n",
       "      <td>0.918117</td>\n",
       "      <td>0.917502</td>\n",
       "      <td>00:05</td>\n",
       "    </tr>\n",
       "    <tr>\n",
       "      <td>46</td>\n",
       "      <td>0.065312</td>\n",
       "      <td>0.166469</td>\n",
       "      <td>0.913218</td>\n",
       "      <td>0.918401</td>\n",
       "      <td>00:06</td>\n",
       "    </tr>\n",
       "    <tr>\n",
       "      <td>47</td>\n",
       "      <td>0.061338</td>\n",
       "      <td>0.165177</td>\n",
       "      <td>0.914077</td>\n",
       "      <td>0.914992</td>\n",
       "      <td>00:06</td>\n",
       "    </tr>\n",
       "    <tr>\n",
       "      <td>48</td>\n",
       "      <td>0.068921</td>\n",
       "      <td>0.164189</td>\n",
       "      <td>0.919750</td>\n",
       "      <td>0.923153</td>\n",
       "      <td>00:05</td>\n",
       "    </tr>\n",
       "    <tr>\n",
       "      <td>49</td>\n",
       "      <td>0.062025</td>\n",
       "      <td>0.164580</td>\n",
       "      <td>0.916058</td>\n",
       "      <td>0.918203</td>\n",
       "      <td>00:05</td>\n",
       "    </tr>\n",
       "  </tbody>\n",
       "</table>"
      ],
      "text/plain": [
       "<IPython.core.display.HTML object>"
      ]
     },
     "metadata": {},
     "output_type": "display_data"
    },
    {
     "data": {
      "image/png": "[encoded data removed]",
      "text/plain": [
       "<Figure size 432x288 with 1 Axes>"
      ]
     },
     "metadata": {},
     "output_type": "display_data"
    },
    {
     "data": {
      "image/png": "[encoded data removed]",
      "text/plain": [
       "<Figure size 936x648 with 4 Axes>"
      ]
     },
     "metadata": {
      "needs_background": "light"
     },
     "output_type": "display_data"
    }
   ],
   "source": [
    "batch_tfms = TSStandardize()\n",
    "fcst = TSForecaster(trainset_X, trainset_y, splits=splits, loss_func=BCEWithLogitsLossFlat(), path='models', bs=16, arch=LSTM_FCNPlus, metrics=[ F1ScoreMulti(), RecallMulti()], cbs=ShowGraph())\n",
    "fcst.fit_one_cycle(50, 1e-3)\n",
    "fcst.export(\"fcst.pkl\")"
   ]
  },
  {
   "cell_type": "code",
   "execution_count": null,
   "id": "h0OAGEO8kcNE",
   "metadata": {
    "id": "h0OAGEO8kcNE"
   },
   "outputs": [],
   "source": [
    "batch_tfms = TSStandardize()\n",
    "fcst = TSForecaster(trainset_X, trainset_y, splits=splits, loss_func=BCEWithLogitsLossFlat(), path='models', bs=16, arch=LSTM_FCNPlus, metrics=[ F1ScoreMulti(), RecallMulti()], cbs=ShowGraph())\n",
    "fcst.fit_one_cycle(50, 1e-3)\n",
    "fcst.export(\"fcst1.pkl\")"
   ]
  },
  {
   "cell_type": "code",
   "execution_count": null,
   "id": "LwgeGR-9Pib2",
   "metadata": {
    "id": "LwgeGR-9Pib2"
   },
   "outputs": [],
   "source": [
    "splits"
   ]
  },
  {
   "cell_type": "code",
   "execution_count": null,
   "id": "mWfuqmoZb3DA",
   "metadata": {
    "colab": {
     "base_uri": "https://localhost:8080/",
     "height": 17
    },
    "id": "mWfuqmoZb3DA",
    "outputId": "6e10bbb3-efd1-4d2e-c221-ac033dd50538"
   },
   "outputs": [
    {
     "data": {
      "text/html": [
       "\n",
       "<style>\n",
       "    /* Turns off some styling */\n",
       "    progress {\n",
       "        /* gets rid of default border in Firefox and Opera. */\n",
       "        border: none;\n",
       "        /* Needs to be in here for Safari polyfill so background images work as expected. */\n",
       "        background-size: auto;\n",
       "    }\n",
       "    progress:not([value]), progress:not([value])::-webkit-progress-bar {\n",
       "        background: repeating-linear-gradient(45deg, #7e7e7e, #7e7e7e 10px, #5c5c5c 10px, #5c5c5c 20px);\n",
       "    }\n",
       "    .progress-bar-interrupted, .progress-bar-interrupted::-webkit-progress-bar {\n",
       "        background: #F44336;\n",
       "    }\n",
       "</style>\n"
      ],
      "text/plain": [
       "<IPython.core.display.HTML object>"
      ]
     },
     "metadata": {},
     "output_type": "display_data"
    },
    {
     "data": {
      "text/html": [],
      "text/plain": [
       "<IPython.core.display.HTML object>"
      ]
     },
     "metadata": {},
     "output_type": "display_data"
    }
   ],
   "source": [
    "from tsai.inference import load_learner\n",
    "actual = [0 if target == 0 else 1 for target in testset_y[splits[1]]]\n",
    "\n",
    "fcst = load_learner(\"models/fcst.pkl\", cpu=False)\n",
    "raw_preds, target, preds = fcst.get_X_preds(testset_X[splits[1]])\n",
    "predicted = [0 if pred[0] == False else 1 for pred in preds]\n"
   ]
  },
  {
   "cell_type": "code",
   "execution_count": null,
   "id": "fTen9CnCq1OW",
   "metadata": {
    "colab": {
     "base_uri": "https://localhost:8080/",
     "height": 279
    },
    "id": "fTen9CnCq1OW",
    "outputId": "0c762575-12c1-4161-a781-a2b6de0cf26a"
   },
   "outputs": [
    {
     "data": {
      "image/png": "[encoded data removed]",
      "text/plain": [
       "<Figure size 432x288 with 2 Axes>"
      ]
     },
     "metadata": {
      "needs_background": "light"
     },
     "output_type": "display_data"
    }
   ],
   "source": [
    "import matplotlib.pyplot as plt\n",
    "import numpy\n",
    "from sklearn import metrics\n",
    "\n",
    "actual = numpy.random.binomial(1,.9,size = 1000)\n",
    "predicted = numpy.random.binomial(1,.9,size = 1000)\n",
    "\n",
    "confusion_matrix = metrics.confusion_matrix(actual, predicted)\n",
    "\n",
    "cm_display = metrics.ConfusionMatrixDisplay(confusion_matrix = confusion_matrix, display_labels = [False, True])\n",
    "\n",
    "cm_display.plot()\n",
    "plt.show()"
   ]
  },
  {
   "cell_type": "code",
   "execution_count": null,
   "id": "StcYBtKKrJ-8",
   "metadata": {
    "colab": {
     "base_uri": "https://localhost:8080/"
    },
    "id": "StcYBtKKrJ-8",
    "outputId": "90cb841f-e1a3-4676-cd93-315bf420042b"
   },
   "outputs": [
    {
     "name": "stdout",
     "output_type": "stream",
     "text": [
      "0.8949152542372881 0.8849162011173184 0.8898876404494381\n"
     ]
    }
   ],
   "source": [
    "tp = confusion_matrix[1,1]\n",
    "fp = confusion_matrix[0,1]\n",
    "fn = confusion_matrix[1,0]\n",
    "pre = tp/(tp+fp)\n",
    "re = tp/(tp+fn)\n",
    "f1 = 2*pre*re/(pre+re)\n",
    "\n",
    "print(pre, re, f1)"
   ]
  }
 ],
 "metadata": {
  "accelerator": "GPU",
  "colab": {
   "provenance": []
  },
  "gpuClass": "standard",
  "kernelspec": {
   "display_name": "Python 3 (ipykernel)",
   "language": "python",
   "name": "python3"
  },
  "language_info": {
   "codemirror_mode": {
    "name": "ipython",
    "version": 3
   },
   "file_extension": ".py",
   "mimetype": "text/x-python",
   "name": "python",
   "nbconvert_exporter": "python",
   "pygments_lexer": "ipython3",
   "version": "3.10.6"
  },
  "vscode": {
   "interpreter": {
    "hash": "06afa4699aa6d5dd38ac88a7aef8e8d3f4ba0f0b3e4979b0bc803627fb7de103"
   }
  }
 },
 "nbformat": 4,
 "nbformat_minor": 5
}
