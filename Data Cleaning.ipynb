{
 "cells": [
  {
   "cell_type": "code",
   "execution_count": 8,
   "id": "db8a1ed0",
   "metadata": {},
   "outputs": [],
   "source": [
    "import pandas as pd\n",
    "import pathlib\n",
    "DATA_PATH = pathlib.Path().resolve() / 'data' / 'Filtered Data'"
   ]
  },
  {
   "cell_type": "code",
   "execution_count": 23,
   "id": "0e8a3829",
   "metadata": {},
   "outputs": [],
   "source": [
    "df = pd.DataFrame(columns=['Timestamp', 'Patient_ID', 'Task_ID', 'Electrooculogram', 'ECG', 'EMG_R-TA', 'EMG_L-TA', 'EMG_R-GS', 'LS_acc_x', 'LS_acc_y', 'LS_acc_z', 'LS_gyro_x', 'LS_gyro_y', 'LS_gyro_z', 'RS_acc_x', 'RS_acc_y', 'RS_acc_z', 'RS_gyro_x', 'RS_gyro_y', 'RS_gyro_z', 'Waist_acc_x', 'Waist_acc_y', 'Waist_acc_z', 'Waist_gyro_x', 'Waist_gyro_y', 'Waist_gyro_z', 'Arm_acc_x', 'Arm_acc_y', 'Arm_acc_z', 'Arm_gyro_x', 'Arm_gyro_y', 'Arm_gyro_z', 'SC', 'FoG'])\n",
    "x1 = pd.read_csv(str(DATA_PATH) + \"/001/task_1.txt\", header=None).to_numpy()"
   ]
  },
  {
   "cell_type": "code",
   "execution_count": 24,
   "id": "d7af48fc",
   "metadata": {},
   "outputs": [],
   "source": [
    "bio = x1[:,26:31]"
   ]
  },
  {
   "cell_type": "code",
   "execution_count": 37,
   "id": "37fb53c3",
   "metadata": {},
   "outputs": [],
   "source": [
    "row_nums = x1[:,0]\n",
    "time_stamps = x1[:,1]"
   ]
  },
  {
   "cell_type": "code",
   "execution_count": null,
   "id": "d7a15c65",
   "metadata": {},
   "outputs": [],
   "source": [
    " FP1, FP2, F3, F4, C4, C4, P3, P4, O1, O2, F7, F8, P7, P8, FZ, CZ, PZ, FC1, FC2, CP1, CP2, FC5, FC6, CP5, CP6 = x1[:,2]"
   ]
  },
  {
   "cell_type": "code",
   "execution_count": null,
   "id": "e616b5e6",
   "metadata": {},
   "outputs": [],
   "source": []
  }
 ],
 "metadata": {
  "kernelspec": {
   "display_name": "syde-599-project",
   "language": "python",
   "name": "syde-599-project"
  },
  "language_info": {
   "codemirror_mode": {
    "name": "ipython",
    "version": 3
   },
   "file_extension": ".py",
   "mimetype": "text/x-python",
   "name": "python",
   "nbconvert_exporter": "python",
   "pygments_lexer": "ipython3",
   "version": "3.10.6"
  }
 },
 "nbformat": 4,
 "nbformat_minor": 5
}
